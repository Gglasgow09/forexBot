{
 "cells": [
  {
   "cell_type": "code",
   "execution_count": 44,
   "metadata": {},
   "outputs": [],
   "source": [
    "import requests\n",
    "import defs\n",
    "import pandas as pd"
   ]
  },
  {
   "cell_type": "code",
   "execution_count": 45,
   "metadata": {},
   "outputs": [],
   "source": [
    "session =  requests.Session()\n",
    "ins_df = pd.read_pickle(\"instruments.pk1\")\n"
   ]
  },
  {
   "cell_type": "code",
   "execution_count": 46,
   "metadata": {},
   "outputs": [],
   "source": [
    "our_curr = ['EUR', 'USD', 'GBP', 'JPY', 'CHF', 'NZD', 'CAD']"
   ]
  },
  {
   "cell_type": "code",
   "execution_count": 47,
   "metadata": {},
   "outputs": [
    {
     "data": {
      "text/plain": [
       "(68, 5)"
      ]
     },
     "execution_count": 47,
     "metadata": {},
     "output_type": "execute_result"
    }
   ],
   "source": [
    "ins_df.shape"
   ]
  },
  {
   "cell_type": "code",
   "execution_count": 48,
   "metadata": {},
   "outputs": [
    {
     "name": "stdout",
     "output_type": "stream",
     "text": [
      "<class 'pandas.core.frame.DataFrame'>\n",
      "RangeIndex: 68 entries, 0 to 67\n",
      "Data columns (total 5 columns):\n",
      " #   Column       Non-Null Count  Dtype \n",
      "---  ------       --------------  ----- \n",
      " 0   name         68 non-null     object\n",
      " 1   type         68 non-null     object\n",
      " 2   displayName  68 non-null     object\n",
      " 3   pipLocation  68 non-null     int64 \n",
      " 4   marginRate   68 non-null     object\n",
      "dtypes: int64(1), object(4)\n",
      "memory usage: 2.8+ KB\n"
     ]
    }
   ],
   "source": [
    "ins_df.info()"
   ]
  },
  {
   "cell_type": "code",
   "execution_count": 49,
   "metadata": {},
   "outputs": [
    {
     "data": {
      "text/plain": [
       "Index(['name', 'type', 'displayName', 'pipLocation', 'marginRate'], dtype='object')"
      ]
     },
     "execution_count": 49,
     "metadata": {},
     "output_type": "execute_result"
    }
   ],
   "source": [
    "ins_df.columns"
   ]
  },
  {
   "cell_type": "code",
   "execution_count": 50,
   "metadata": {},
   "outputs": [
    {
     "data": {
      "text/plain": [
       "array(['HKD_JPY', 'USD_SGD', 'EUR_SEK', 'GBP_PLN', 'EUR_PLN', 'GBP_NZD',\n",
       "       'EUR_NOK', 'USD_CZK', 'EUR_GBP', 'CHF_HKD', 'EUR_CZK', 'NZD_JPY',\n",
       "       'EUR_HUF', 'CAD_HKD', 'USD_CHF', 'AUD_HKD', 'NZD_CHF', 'AUD_CHF',\n",
       "       'GBP_CHF', 'USD_THB', 'GBP_CAD', 'EUR_HKD', 'CHF_JPY', 'GBP_HKD',\n",
       "       'EUR_NZD', 'AUD_SGD', 'EUR_JPY', 'EUR_TRY', 'USD_JPY', 'SGD_JPY',\n",
       "       'GBP_ZAR', 'ZAR_JPY', 'AUD_JPY', 'SGD_CHF', 'EUR_CHF', 'NZD_CAD',\n",
       "       'USD_CNH', 'USD_TRY', 'GBP_JPY', 'EUR_SGD', 'AUD_USD', 'USD_NOK',\n",
       "       'NZD_SGD', 'USD_CAD', 'EUR_AUD', 'TRY_JPY', 'CAD_JPY', 'USD_ZAR',\n",
       "       'USD_DKK', 'EUR_ZAR', 'USD_PLN', 'GBP_AUD', 'NZD_USD', 'USD_HKD',\n",
       "       'CHF_ZAR', 'EUR_USD', 'GBP_SGD', 'USD_SEK', 'USD_HUF', 'EUR_CAD',\n",
       "       'EUR_DKK', 'AUD_CAD', 'USD_MXN', 'GBP_USD', 'CAD_CHF', 'AUD_NZD',\n",
       "       'CAD_SGD', 'NZD_HKD'], dtype=object)"
      ]
     },
     "execution_count": 50,
     "metadata": {},
     "output_type": "execute_result"
    }
   ],
   "source": [
    "ins_df.name.unique()"
   ]
  },
  {
   "cell_type": "code",
   "execution_count": 51,
   "metadata": {},
   "outputs": [],
   "source": [
    "def fetch_candles(pair_name, count, granularity):\n",
    "    url = f\"{defs.OANDA_URL}/instruments/{pair_name}/candles\"\n",
    "    params = dict(\n",
    "        count = count,\n",
    "        granularity = granularity,\n",
    "        price = \"MBA\"\n",
    "    )\n",
    "\n",
    "    response = session.get(url, params=params, headers=defs.SECURE_HEADER)\n",
    "    return response.status_code, response.json()"
   ]
  },
  {
   "cell_type": "code",
   "execution_count": 52,
   "metadata": {},
   "outputs": [],
   "source": [
    "code, res = fetch_candles(\"EUR_USD\", 10, \"H1\")"
   ]
  },
  {
   "cell_type": "code",
   "execution_count": 53,
   "metadata": {},
   "outputs": [
    {
     "data": {
      "text/plain": [
       "200"
      ]
     },
     "execution_count": 53,
     "metadata": {},
     "output_type": "execute_result"
    }
   ],
   "source": [
    "code"
   ]
  },
  {
   "cell_type": "code",
   "execution_count": 54,
   "metadata": {},
   "outputs": [
    {
     "data": {
      "text/plain": [
       "{'instrument': 'EUR_USD',\n",
       " 'granularity': 'H1',\n",
       " 'candles': [{'complete': True,\n",
       "   'volume': 4204,\n",
       "   'time': '2024-07-29T15:00:00.000000000Z',\n",
       "   'bid': {'o': '1.08148', 'h': '1.08232', 'l': '1.08147', 'c': '1.08181'},\n",
       "   'mid': {'o': '1.08156', 'h': '1.08239', 'l': '1.08154', 'c': '1.08189'},\n",
       "   'ask': {'o': '1.08163', 'h': '1.08246', 'l': '1.08162', 'c': '1.08197'}},\n",
       "  {'complete': True,\n",
       "   'volume': 3435,\n",
       "   'time': '2024-07-29T16:00:00.000000000Z',\n",
       "   'bid': {'o': '1.08184', 'h': '1.08230', 'l': '1.08142', 'c': '1.08207'},\n",
       "   'mid': {'o': '1.08192', 'h': '1.08238', 'l': '1.08150', 'c': '1.08215'},\n",
       "   'ask': {'o': '1.08199', 'h': '1.08246', 'l': '1.08158', 'c': '1.08223'}},\n",
       "  {'complete': True,\n",
       "   'volume': 3187,\n",
       "   'time': '2024-07-29T17:00:00.000000000Z',\n",
       "   'bid': {'o': '1.08209', 'h': '1.08253', 'l': '1.08188', 'c': '1.08242'},\n",
       "   'mid': {'o': '1.08216', 'h': '1.08260', 'l': '1.08196', 'c': '1.08250'},\n",
       "   'ask': {'o': '1.08224', 'h': '1.08268', 'l': '1.08203', 'c': '1.08258'}},\n",
       "  {'complete': True,\n",
       "   'volume': 3019,\n",
       "   'time': '2024-07-29T18:00:00.000000000Z',\n",
       "   'bid': {'o': '1.08240', 'h': '1.08243', 'l': '1.08186', 'c': '1.08209'},\n",
       "   'mid': {'o': '1.08248', 'h': '1.08250', 'l': '1.08194', 'c': '1.08216'},\n",
       "   'ask': {'o': '1.08256', 'h': '1.08258', 'l': '1.08202', 'c': '1.08224'}},\n",
       "  {'complete': True,\n",
       "   'volume': 3087,\n",
       "   'time': '2024-07-29T19:00:00.000000000Z',\n",
       "   'bid': {'o': '1.08210', 'h': '1.08249', 'l': '1.08210', 'c': '1.08229'},\n",
       "   'mid': {'o': '1.08218', 'h': '1.08257', 'l': '1.08218', 'c': '1.08237'},\n",
       "   'ask': {'o': '1.08226', 'h': '1.08265', 'l': '1.08225', 'c': '1.08245'}},\n",
       "  {'complete': True,\n",
       "   'volume': 1738,\n",
       "   'time': '2024-07-29T20:00:00.000000000Z',\n",
       "   'bid': {'o': '1.08230', 'h': '1.08231', 'l': '1.08190', 'c': '1.08205'},\n",
       "   'mid': {'o': '1.08237', 'h': '1.08238', 'l': '1.08198', 'c': '1.08212'},\n",
       "   'ask': {'o': '1.08244', 'h': '1.08246', 'l': '1.08206', 'c': '1.08219'}},\n",
       "  {'complete': True,\n",
       "   'volume': 346,\n",
       "   'time': '2024-07-29T21:00:00.000000000Z',\n",
       "   'bid': {'o': '1.08191', 'h': '1.08228', 'l': '1.08191', 'c': '1.08220'},\n",
       "   'mid': {'o': '1.08227', 'h': '1.08242', 'l': '1.08220', 'c': '1.08230'},\n",
       "   'ask': {'o': '1.08263', 'h': '1.08263', 'l': '1.08230', 'c': '1.08241'}},\n",
       "  {'complete': True,\n",
       "   'volume': 664,\n",
       "   'time': '2024-07-29T22:00:00.000000000Z',\n",
       "   'bid': {'o': '1.08227', 'h': '1.08229', 'l': '1.08211', 'c': '1.08215'},\n",
       "   'mid': {'o': '1.08238', 'h': '1.08238', 'l': '1.08220', 'c': '1.08223'},\n",
       "   'ask': {'o': '1.08248', 'h': '1.08250', 'l': '1.08228', 'c': '1.08231'}},\n",
       "  {'complete': True,\n",
       "   'volume': 1198,\n",
       "   'time': '2024-07-29T23:00:00.000000000Z',\n",
       "   'bid': {'o': '1.08214', 'h': '1.08216', 'l': '1.08175', 'c': '1.08184'},\n",
       "   'mid': {'o': '1.08222', 'h': '1.08223', 'l': '1.08184', 'c': '1.08192'},\n",
       "   'ask': {'o': '1.08229', 'h': '1.08230', 'l': '1.08191', 'c': '1.08199'}},\n",
       "  {'complete': False,\n",
       "   'volume': 1737,\n",
       "   'time': '2024-07-30T00:00:00.000000000Z',\n",
       "   'bid': {'o': '1.08185', 'h': '1.08194', 'l': '1.08151', 'c': '1.08165'},\n",
       "   'mid': {'o': '1.08192', 'h': '1.08202', 'l': '1.08160', 'c': '1.08172'},\n",
       "   'ask': {'o': '1.08199', 'h': '1.08210', 'l': '1.08168', 'c': '1.08180'}}]}"
      ]
     },
     "execution_count": 54,
     "metadata": {},
     "output_type": "execute_result"
    }
   ],
   "source": [
    "res"
   ]
  },
  {
   "cell_type": "code",
   "execution_count": 55,
   "metadata": {},
   "outputs": [],
   "source": [
    "def get_candle_df(json_response):\n",
    "\n",
    "    prices = ['mid', 'bid', 'ask']\n",
    "    ohlc = ['o', 'h', 'l', 'c']\n",
    "\n",
    "    our_data = []\n",
    "    for candle in json_response['candles']:\n",
    "        if candle['complete'] == False:\n",
    "            continue\n",
    "\n",
    "        new_dict = {}\n",
    "        new_dict['time'] = candle['time']\n",
    "        new_dict['volume'] = candle['volume']\n",
    "        for price in prices:\n",
    "            for oh in ohlc:\n",
    "                new_dict[f\"{price}_{oh}\"] = candle[price][oh]\n",
    "    \n",
    "        our_data.append(new_dict)\n",
    "    return pd.DataFrame.from_dict(our_data)\n",
    "\n"
   ]
  },
  {
   "cell_type": "code",
   "execution_count": 56,
   "metadata": {},
   "outputs": [],
   "source": [
    "code, res = fetch_candles(\"EUR_USD\", 10, \"H1\")"
   ]
  },
  {
   "cell_type": "code",
   "execution_count": 57,
   "metadata": {},
   "outputs": [],
   "source": [
    "df = get_candle_df(res)"
   ]
  },
  {
   "cell_type": "code",
   "execution_count": 58,
   "metadata": {},
   "outputs": [
    {
     "data": {
      "text/html": [
       "<div>\n",
       "<style scoped>\n",
       "    .dataframe tbody tr th:only-of-type {\n",
       "        vertical-align: middle;\n",
       "    }\n",
       "\n",
       "    .dataframe tbody tr th {\n",
       "        vertical-align: top;\n",
       "    }\n",
       "\n",
       "    .dataframe thead th {\n",
       "        text-align: right;\n",
       "    }\n",
       "</style>\n",
       "<table border=\"1\" class=\"dataframe\">\n",
       "  <thead>\n",
       "    <tr style=\"text-align: right;\">\n",
       "      <th></th>\n",
       "      <th>time</th>\n",
       "      <th>volume</th>\n",
       "      <th>mid_o</th>\n",
       "      <th>mid_h</th>\n",
       "      <th>mid_l</th>\n",
       "      <th>mid_c</th>\n",
       "      <th>bid_o</th>\n",
       "      <th>bid_h</th>\n",
       "      <th>bid_l</th>\n",
       "      <th>bid_c</th>\n",
       "      <th>ask_o</th>\n",
       "      <th>ask_h</th>\n",
       "      <th>ask_l</th>\n",
       "      <th>ask_c</th>\n",
       "    </tr>\n",
       "  </thead>\n",
       "  <tbody>\n",
       "    <tr>\n",
       "      <th>0</th>\n",
       "      <td>2024-07-29T15:00:00.000000000Z</td>\n",
       "      <td>4204</td>\n",
       "      <td>1.08156</td>\n",
       "      <td>1.08239</td>\n",
       "      <td>1.08154</td>\n",
       "      <td>1.08189</td>\n",
       "      <td>1.08148</td>\n",
       "      <td>1.08232</td>\n",
       "      <td>1.08147</td>\n",
       "      <td>1.08181</td>\n",
       "      <td>1.08163</td>\n",
       "      <td>1.08246</td>\n",
       "      <td>1.08162</td>\n",
       "      <td>1.08197</td>\n",
       "    </tr>\n",
       "    <tr>\n",
       "      <th>1</th>\n",
       "      <td>2024-07-29T16:00:00.000000000Z</td>\n",
       "      <td>3435</td>\n",
       "      <td>1.08192</td>\n",
       "      <td>1.08238</td>\n",
       "      <td>1.08150</td>\n",
       "      <td>1.08215</td>\n",
       "      <td>1.08184</td>\n",
       "      <td>1.08230</td>\n",
       "      <td>1.08142</td>\n",
       "      <td>1.08207</td>\n",
       "      <td>1.08199</td>\n",
       "      <td>1.08246</td>\n",
       "      <td>1.08158</td>\n",
       "      <td>1.08223</td>\n",
       "    </tr>\n",
       "    <tr>\n",
       "      <th>2</th>\n",
       "      <td>2024-07-29T17:00:00.000000000Z</td>\n",
       "      <td>3187</td>\n",
       "      <td>1.08216</td>\n",
       "      <td>1.08260</td>\n",
       "      <td>1.08196</td>\n",
       "      <td>1.08250</td>\n",
       "      <td>1.08209</td>\n",
       "      <td>1.08253</td>\n",
       "      <td>1.08188</td>\n",
       "      <td>1.08242</td>\n",
       "      <td>1.08224</td>\n",
       "      <td>1.08268</td>\n",
       "      <td>1.08203</td>\n",
       "      <td>1.08258</td>\n",
       "    </tr>\n",
       "    <tr>\n",
       "      <th>3</th>\n",
       "      <td>2024-07-29T18:00:00.000000000Z</td>\n",
       "      <td>3019</td>\n",
       "      <td>1.08248</td>\n",
       "      <td>1.08250</td>\n",
       "      <td>1.08194</td>\n",
       "      <td>1.08216</td>\n",
       "      <td>1.08240</td>\n",
       "      <td>1.08243</td>\n",
       "      <td>1.08186</td>\n",
       "      <td>1.08209</td>\n",
       "      <td>1.08256</td>\n",
       "      <td>1.08258</td>\n",
       "      <td>1.08202</td>\n",
       "      <td>1.08224</td>\n",
       "    </tr>\n",
       "    <tr>\n",
       "      <th>4</th>\n",
       "      <td>2024-07-29T19:00:00.000000000Z</td>\n",
       "      <td>3087</td>\n",
       "      <td>1.08218</td>\n",
       "      <td>1.08257</td>\n",
       "      <td>1.08218</td>\n",
       "      <td>1.08237</td>\n",
       "      <td>1.08210</td>\n",
       "      <td>1.08249</td>\n",
       "      <td>1.08210</td>\n",
       "      <td>1.08229</td>\n",
       "      <td>1.08226</td>\n",
       "      <td>1.08265</td>\n",
       "      <td>1.08225</td>\n",
       "      <td>1.08245</td>\n",
       "    </tr>\n",
       "  </tbody>\n",
       "</table>\n",
       "</div>"
      ],
      "text/plain": [
       "                             time  volume    mid_o    mid_h    mid_l    mid_c  \\\n",
       "0  2024-07-29T15:00:00.000000000Z    4204  1.08156  1.08239  1.08154  1.08189   \n",
       "1  2024-07-29T16:00:00.000000000Z    3435  1.08192  1.08238  1.08150  1.08215   \n",
       "2  2024-07-29T17:00:00.000000000Z    3187  1.08216  1.08260  1.08196  1.08250   \n",
       "3  2024-07-29T18:00:00.000000000Z    3019  1.08248  1.08250  1.08194  1.08216   \n",
       "4  2024-07-29T19:00:00.000000000Z    3087  1.08218  1.08257  1.08218  1.08237   \n",
       "\n",
       "     bid_o    bid_h    bid_l    bid_c    ask_o    ask_h    ask_l    ask_c  \n",
       "0  1.08148  1.08232  1.08147  1.08181  1.08163  1.08246  1.08162  1.08197  \n",
       "1  1.08184  1.08230  1.08142  1.08207  1.08199  1.08246  1.08158  1.08223  \n",
       "2  1.08209  1.08253  1.08188  1.08242  1.08224  1.08268  1.08203  1.08258  \n",
       "3  1.08240  1.08243  1.08186  1.08209  1.08256  1.08258  1.08202  1.08224  \n",
       "4  1.08210  1.08249  1.08210  1.08229  1.08226  1.08265  1.08225  1.08245  "
      ]
     },
     "execution_count": 58,
     "metadata": {},
     "output_type": "execute_result"
    }
   ],
   "source": [
    "df.head()"
   ]
  },
  {
   "cell_type": "code",
   "execution_count": 59,
   "metadata": {},
   "outputs": [],
   "source": [
    "def save_file(candles_df, pair, granularity):\n",
    "    candles_df.to_pickle(f\"his_data/{pair}_{granularity}.pk1\")"
   ]
  },
  {
   "cell_type": "code",
   "execution_count": 60,
   "metadata": {},
   "outputs": [],
   "source": [
    "def create_data(pair, granularity):\n",
    "    code, json_data = fetch_candles(pair, 4000, granularity)\n",
    "    if code != 200:\n",
    "        print(pair, \"Error\")\n",
    "        return\n",
    "    df = get_candle_df(json_data)\n",
    "    print(f\"{pair} loaded {df.shape[0]} candles from {df.time.min()} to {df.time.max()}\")\n",
    "    save_file(df, pair, granularity)"
   ]
  },
  {
   "cell_type": "code",
   "execution_count": 61,
   "metadata": {},
   "outputs": [
    {
     "name": "stdout",
     "output_type": "stream",
     "text": [
      "EUR_USD loaded 3999 candles from 2023-12-06T08:00:00.000000000Z to 2024-07-29T23:00:00.000000000Z\n",
      "EUR_GBP loaded 3999 candles from 2023-12-06T08:00:00.000000000Z to 2024-07-29T23:00:00.000000000Z\n",
      "EUR_JPY loaded 3999 candles from 2023-12-06T08:00:00.000000000Z to 2024-07-29T23:00:00.000000000Z\n",
      "EUR_CHF loaded 3999 candles from 2023-12-06T08:00:00.000000000Z to 2024-07-29T23:00:00.000000000Z\n",
      "EUR_NZD loaded 3999 candles from 2023-12-06T10:00:00.000000000Z to 2024-07-29T23:00:00.000000000Z\n",
      "EUR_CAD loaded 3999 candles from 2023-12-06T08:00:00.000000000Z to 2024-07-29T23:00:00.000000000Z\n",
      "USD_JPY loaded 3999 candles from 2023-12-06T08:00:00.000000000Z to 2024-07-29T23:00:00.000000000Z\n",
      "USD_CHF loaded 3999 candles from 2023-12-06T08:00:00.000000000Z to 2024-07-29T23:00:00.000000000Z\n",
      "USD_CAD loaded 3999 candles from 2023-12-06T08:00:00.000000000Z to 2024-07-29T23:00:00.000000000Z\n",
      "GBP_USD loaded 3999 candles from 2023-12-06T08:00:00.000000000Z to 2024-07-29T23:00:00.000000000Z\n",
      "GBP_JPY loaded 3999 candles from 2023-12-06T08:00:00.000000000Z to 2024-07-29T23:00:00.000000000Z\n",
      "GBP_CHF loaded 3999 candles from 2023-12-06T08:00:00.000000000Z to 2024-07-29T23:00:00.000000000Z\n",
      "GBP_NZD loaded 3999 candles from 2023-12-06T10:00:00.000000000Z to 2024-07-29T23:00:00.000000000Z\n",
      "GBP_CAD loaded 3999 candles from 2023-12-06T08:00:00.000000000Z to 2024-07-29T23:00:00.000000000Z\n",
      "CHF_JPY loaded 3999 candles from 2023-12-06T08:00:00.000000000Z to 2024-07-29T23:00:00.000000000Z\n",
      "NZD_USD loaded 3999 candles from 2023-12-06T12:00:00.000000000Z to 2024-07-29T23:00:00.000000000Z\n",
      "NZD_JPY loaded 3999 candles from 2023-12-06T10:00:00.000000000Z to 2024-07-29T23:00:00.000000000Z\n",
      "NZD_CHF loaded 3999 candles from 2023-12-06T09:00:00.000000000Z to 2024-07-29T23:00:00.000000000Z\n",
      "NZD_CAD loaded 3999 candles from 2023-12-06T11:00:00.000000000Z to 2024-07-29T23:00:00.000000000Z\n",
      "CAD_JPY loaded 3999 candles from 2023-12-06T08:00:00.000000000Z to 2024-07-29T23:00:00.000000000Z\n",
      "CAD_CHF loaded 3999 candles from 2023-12-06T08:00:00.000000000Z to 2024-07-29T23:00:00.000000000Z\n"
     ]
    }
   ],
   "source": [
    "for p1 in our_curr:\n",
    "    for p2 in our_curr:\n",
    "        pair = f\"{p1}_{p2}\"\n",
    "        if pair in ins_df.name.unique():\n",
    "            create_data(pair, \"H1\")"
   ]
  }
 ],
 "metadata": {
  "kernelspec": {
   "display_name": "venv",
   "language": "python",
   "name": "python3"
  },
  "language_info": {
   "codemirror_mode": {
    "name": "ipython",
    "version": 3
   },
   "file_extension": ".py",
   "mimetype": "text/x-python",
   "name": "python",
   "nbconvert_exporter": "python",
   "pygments_lexer": "ipython3",
   "version": "3.11.7"
  }
 },
 "nbformat": 4,
 "nbformat_minor": 2
}
