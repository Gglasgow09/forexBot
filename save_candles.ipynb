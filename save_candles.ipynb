{
 "cells": [
  {
   "cell_type": "code",
   "execution_count": 13,
   "metadata": {},
   "outputs": [],
   "source": [
    "import requests\n",
    "import defs\n",
    "import pandas as pd"
   ]
  },
  {
   "cell_type": "code",
   "execution_count": 14,
   "metadata": {},
   "outputs": [],
   "source": [
    "session =  requests.Session()\n",
    "ins_df = pd.read_pickle(\"instruments.pk1\")\n"
   ]
  },
  {
   "cell_type": "code",
   "execution_count": 15,
   "metadata": {},
   "outputs": [],
   "source": [
    "our_currencies = ['EUR', 'USD', 'GBP', 'JPY', 'CHF', 'NZD', 'CAD']"
   ]
  },
  {
   "cell_type": "code",
   "execution_count": 16,
   "metadata": {},
   "outputs": [
    {
     "data": {
      "text/plain": [
       "(68, 5)"
      ]
     },
     "execution_count": 16,
     "metadata": {},
     "output_type": "execute_result"
    }
   ],
   "source": [
    "ins_df.shape"
   ]
  },
  {
   "cell_type": "code",
   "execution_count": 17,
   "metadata": {},
   "outputs": [
    {
     "name": "stdout",
     "output_type": "stream",
     "text": [
      "<class 'pandas.core.frame.DataFrame'>\n",
      "RangeIndex: 68 entries, 0 to 67\n",
      "Data columns (total 5 columns):\n",
      " #   Column       Non-Null Count  Dtype \n",
      "---  ------       --------------  ----- \n",
      " 0   name         68 non-null     object\n",
      " 1   type         68 non-null     object\n",
      " 2   displayName  68 non-null     object\n",
      " 3   pipLocation  68 non-null     int64 \n",
      " 4   marginRate   68 non-null     object\n",
      "dtypes: int64(1), object(4)\n",
      "memory usage: 2.8+ KB\n"
     ]
    }
   ],
   "source": [
    "ins_df.info()"
   ]
  },
  {
   "cell_type": "code",
   "execution_count": 18,
   "metadata": {},
   "outputs": [
    {
     "data": {
      "text/plain": [
       "Index(['name', 'type', 'displayName', 'pipLocation', 'marginRate'], dtype='object')"
      ]
     },
     "execution_count": 18,
     "metadata": {},
     "output_type": "execute_result"
    }
   ],
   "source": [
    "ins_df.columns"
   ]
  },
  {
   "cell_type": "code",
   "execution_count": 19,
   "metadata": {},
   "outputs": [
    {
     "data": {
      "text/plain": [
       "array(['HKD_JPY', 'USD_SGD', 'EUR_SEK', 'GBP_PLN', 'EUR_PLN', 'GBP_NZD',\n",
       "       'EUR_NOK', 'USD_CZK', 'EUR_GBP', 'CHF_HKD', 'EUR_CZK', 'NZD_JPY',\n",
       "       'EUR_HUF', 'CAD_HKD', 'USD_CHF', 'AUD_HKD', 'NZD_CHF', 'AUD_CHF',\n",
       "       'GBP_CHF', 'USD_THB', 'GBP_CAD', 'EUR_HKD', 'CHF_JPY', 'GBP_HKD',\n",
       "       'EUR_NZD', 'AUD_SGD', 'EUR_JPY', 'EUR_TRY', 'USD_JPY', 'SGD_JPY',\n",
       "       'GBP_ZAR', 'ZAR_JPY', 'AUD_JPY', 'SGD_CHF', 'EUR_CHF', 'NZD_CAD',\n",
       "       'USD_CNH', 'USD_TRY', 'GBP_JPY', 'EUR_SGD', 'AUD_USD', 'USD_NOK',\n",
       "       'NZD_SGD', 'USD_CAD', 'EUR_AUD', 'TRY_JPY', 'CAD_JPY', 'USD_ZAR',\n",
       "       'USD_DKK', 'EUR_ZAR', 'USD_PLN', 'GBP_AUD', 'NZD_USD', 'USD_HKD',\n",
       "       'CHF_ZAR', 'EUR_USD', 'GBP_SGD', 'USD_SEK', 'USD_HUF', 'EUR_CAD',\n",
       "       'EUR_DKK', 'AUD_CAD', 'USD_MXN', 'GBP_USD', 'CAD_CHF', 'AUD_NZD',\n",
       "       'CAD_SGD', 'NZD_HKD'], dtype=object)"
      ]
     },
     "execution_count": 19,
     "metadata": {},
     "output_type": "execute_result"
    }
   ],
   "source": [
    "ins_df.name.unique()"
   ]
  },
  {
   "cell_type": "code",
   "execution_count": 20,
   "metadata": {},
   "outputs": [],
   "source": [
    "def fetch_candles(pair_name, count, granularity):\n",
    "    url = f\"{defs.OANDA_URL}/instruments/{pair_name}/candles\"\n",
    "    params = dict(\n",
    "        count = count,\n",
    "        granularity = granularity,\n",
    "        price = \"MBA\"\n",
    "    )\n",
    "\n",
    "    response = session.get(url, params=params, headers=defs.SECURE_HEADER)\n",
    "    return response.status_code, response.json()"
   ]
  },
  {
   "cell_type": "code",
   "execution_count": 21,
   "metadata": {},
   "outputs": [],
   "source": [
    "code, res = fetch_candles(\"EUR_USD\", 10, \"H1\")"
   ]
  },
  {
   "cell_type": "code",
   "execution_count": 22,
   "metadata": {},
   "outputs": [
    {
     "data": {
      "text/plain": [
       "200"
      ]
     },
     "execution_count": 22,
     "metadata": {},
     "output_type": "execute_result"
    }
   ],
   "source": [
    "code"
   ]
  },
  {
   "cell_type": "code",
   "execution_count": 24,
   "metadata": {},
   "outputs": [
    {
     "data": {
      "text/plain": [
       "{'instrument': 'EUR_USD',\n",
       " 'granularity': 'H1',\n",
       " 'candles': [{'complete': True,\n",
       "   'volume': 3018,\n",
       "   'time': '2024-04-26T11:00:00.000000000Z',\n",
       "   'bid': {'o': '1.07271', 'h': '1.07339', 'l': '1.07143', 'c': '1.07153'},\n",
       "   'mid': {'o': '1.07278', 'h': '1.07346', 'l': '1.07150', 'c': '1.07160'},\n",
       "   'ask': {'o': '1.07286', 'h': '1.07353', 'l': '1.07158', 'c': '1.07167'}},\n",
       "  {'complete': True,\n",
       "   'volume': 8590,\n",
       "   'time': '2024-04-26T12:00:00.000000000Z',\n",
       "   'bid': {'o': '1.07152', 'h': '1.07408', 'l': '1.07095', 'c': '1.07157'},\n",
       "   'mid': {'o': '1.07160', 'h': '1.07416', 'l': '1.07102', 'c': '1.07165'},\n",
       "   'ask': {'o': '1.07167', 'h': '1.07426', 'l': '1.07110', 'c': '1.07173'}},\n",
       "  {'complete': True,\n",
       "   'volume': 6344,\n",
       "   'time': '2024-04-26T13:00:00.000000000Z',\n",
       "   'bid': {'o': '1.07159', 'h': '1.07231', 'l': '1.07055', 'c': '1.07065'},\n",
       "   'mid': {'o': '1.07166', 'h': '1.07238', 'l': '1.07062', 'c': '1.07075'},\n",
       "   'ask': {'o': '1.07174', 'h': '1.07245', 'l': '1.07069', 'c': '1.07085'}},\n",
       "  {'complete': True,\n",
       "   'volume': 6387,\n",
       "   'time': '2024-04-26T14:00:00.000000000Z',\n",
       "   'bid': {'o': '1.07069', 'h': '1.07112', 'l': '1.06755', 'c': '1.06793'},\n",
       "   'mid': {'o': '1.07078', 'h': '1.07119', 'l': '1.06762', 'c': '1.06800'},\n",
       "   'ask': {'o': '1.07087', 'h': '1.07126', 'l': '1.06770', 'c': '1.06807'}},\n",
       "  {'complete': True,\n",
       "   'volume': 4733,\n",
       "   'time': '2024-04-26T15:00:00.000000000Z',\n",
       "   'bid': {'o': '1.06792', 'h': '1.06898', 'l': '1.06733', 'c': '1.06848'},\n",
       "   'mid': {'o': '1.06799', 'h': '1.06905', 'l': '1.06740', 'c': '1.06856'},\n",
       "   'ask': {'o': '1.06806', 'h': '1.06912', 'l': '1.06747', 'c': '1.06863'}},\n",
       "  {'complete': True,\n",
       "   'volume': 2499,\n",
       "   'time': '2024-04-26T16:00:00.000000000Z',\n",
       "   'bid': {'o': '1.06850', 'h': '1.06958', 'l': '1.06831', 'c': '1.06939'},\n",
       "   'mid': {'o': '1.06857', 'h': '1.06966', 'l': '1.06838', 'c': '1.06946'},\n",
       "   'ask': {'o': '1.06864', 'h': '1.06973', 'l': '1.06846', 'c': '1.06953'}},\n",
       "  {'complete': True,\n",
       "   'volume': 1594,\n",
       "   'time': '2024-04-26T17:00:00.000000000Z',\n",
       "   'bid': {'o': '1.06941', 'h': '1.06974', 'l': '1.06924', 'c': '1.06935'},\n",
       "   'mid': {'o': '1.06948', 'h': '1.06981', 'l': '1.06932', 'c': '1.06942'},\n",
       "   'ask': {'o': '1.06956', 'h': '1.06989', 'l': '1.06939', 'c': '1.06950'}},\n",
       "  {'complete': True,\n",
       "   'volume': 1388,\n",
       "   'time': '2024-04-26T18:00:00.000000000Z',\n",
       "   'bid': {'o': '1.06936', 'h': '1.07051', 'l': '1.06930', 'c': '1.07050'},\n",
       "   'mid': {'o': '1.06943', 'h': '1.07058', 'l': '1.06938', 'c': '1.07057'},\n",
       "   'ask': {'o': '1.06950', 'h': '1.07066', 'l': '1.06945', 'c': '1.07064'}},\n",
       "  {'complete': True,\n",
       "   'volume': 1593,\n",
       "   'time': '2024-04-26T19:00:00.000000000Z',\n",
       "   'bid': {'o': '1.07047', 'h': '1.07065', 'l': '1.06960', 'c': '1.06990'},\n",
       "   'mid': {'o': '1.07054', 'h': '1.07072', 'l': '1.06967', 'c': '1.06998'},\n",
       "   'ask': {'o': '1.07061', 'h': '1.07079', 'l': '1.06974', 'c': '1.07006'}},\n",
       "  {'complete': True,\n",
       "   'volume': 1356,\n",
       "   'time': '2024-04-26T20:00:00.000000000Z',\n",
       "   'bid': {'o': '1.06989', 'h': '1.07010', 'l': '1.06903', 'c': '1.06922'},\n",
       "   'mid': {'o': '1.06996', 'h': '1.07018', 'l': '1.06910', 'c': '1.06932'},\n",
       "   'ask': {'o': '1.07004', 'h': '1.07027', 'l': '1.06918', 'c': '1.06941'}}]}"
      ]
     },
     "execution_count": 24,
     "metadata": {},
     "output_type": "execute_result"
    }
   ],
   "source": [
    "res"
   ]
  },
  {
   "cell_type": "code",
   "execution_count": 23,
   "metadata": {},
   "outputs": [
    {
     "name": "stdout",
     "output_type": "stream",
     "text": [
      "EUR_USD\n",
      "EUR_GBP\n",
      "EUR_JPY\n",
      "EUR_CHF\n",
      "EUR_NZD\n",
      "EUR_CAD\n",
      "USD_JPY\n",
      "USD_CHF\n",
      "USD_CAD\n",
      "GBP_USD\n",
      "GBP_JPY\n",
      "GBP_CHF\n",
      "GBP_NZD\n",
      "GBP_CAD\n",
      "CHF_JPY\n",
      "NZD_USD\n",
      "NZD_JPY\n",
      "NZD_CHF\n",
      "NZD_CAD\n",
      "CAD_JPY\n",
      "CAD_CHF\n"
     ]
    }
   ],
   "source": [
    "for p1 in our_currencies:\n",
    "    for p2 in our_currencies:\n",
    "        pair = f\"{p1}_{p2}\"\n",
    "        if pair in ins_df.name.unique():\n",
    "            print(pair)"
   ]
  },
  {
   "cell_type": "code",
   "execution_count": null,
   "metadata": {},
   "outputs": [],
   "source": []
  }
 ],
 "metadata": {
  "kernelspec": {
   "display_name": "venv",
   "language": "python",
   "name": "python3"
  },
  "language_info": {
   "codemirror_mode": {
    "name": "ipython",
    "version": 3
   },
   "file_extension": ".py",
   "mimetype": "text/x-python",
   "name": "python",
   "nbconvert_exporter": "python",
   "pygments_lexer": "ipython3",
   "version": "3.11.7"
  }
 },
 "nbformat": 4,
 "nbformat_minor": 2
}
