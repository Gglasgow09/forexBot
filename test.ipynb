{
 "cells": [
  {
   "cell_type": "code",
   "execution_count": 1,
   "metadata": {},
   "outputs": [],
   "source": [
    "import requests\n",
    "import pandas as pd\n",
    "import defs"
   ]
  },
  {
   "cell_type": "code",
   "execution_count": 2,
   "metadata": {},
   "outputs": [],
   "source": [
    "session = requests.Session()"
   ]
  },
  {
   "cell_type": "code",
   "execution_count": 3,
   "metadata": {},
   "outputs": [],
   "source": [
    "instrument = \"EUR_USD\"\n",
    "count = 10\n",
    "granularity = \"H1\"\n",
    "\n"
   ]
  },
  {
   "cell_type": "code",
   "execution_count": 4,
   "metadata": {},
   "outputs": [
    {
     "data": {
      "text/plain": [
       "'https://api-fxpractice.oanda.com/v3/instruments/EUR_USD/candles'"
      ]
     },
     "execution_count": 4,
     "metadata": {},
     "output_type": "execute_result"
    }
   ],
   "source": [
    "url = f\"{defs.OANDA_URL}/instruments/{instrument}/candles\"\n",
    "url"
   ]
  },
  {
   "cell_type": "code",
   "execution_count": 5,
   "metadata": {},
   "outputs": [
    {
     "data": {
      "text/plain": [
       "{'count': 10, 'granularity': 'H1', 'price': 'MBA'}"
      ]
     },
     "execution_count": 5,
     "metadata": {},
     "output_type": "execute_result"
    }
   ],
   "source": [
    "params = dict(\n",
    "    count = count,\n",
    "    granularity = granularity,\n",
    "    price = \"MBA\"\n",
    ")\n",
    "params"
   ]
  },
  {
   "cell_type": "code",
   "execution_count": 6,
   "metadata": {},
   "outputs": [],
   "source": [
    "response = session.get(url, params=params, headers=defs.SECURE_HEADER)"
   ]
  },
  {
   "cell_type": "code",
   "execution_count": 7,
   "metadata": {},
   "outputs": [
    {
     "data": {
      "text/plain": [
       "{'instrument': 'EUR_USD',\n",
       " 'granularity': 'H1',\n",
       " 'candles': [{'complete': True,\n",
       "   'volume': 1161,\n",
       "   'time': '2024-04-19T20:00:00.000000000Z',\n",
       "   'bid': {'o': '1.06543', 'h': '1.06570', 'l': '1.06524', 'c': '1.06554'},\n",
       "   'mid': {'o': '1.06550', 'h': '1.06578', 'l': '1.06532', 'c': '1.06564'},\n",
       "   'ask': {'o': '1.06557', 'h': '1.06586', 'l': '1.06539', 'c': '1.06575'}},\n",
       "  {'complete': True,\n",
       "   'volume': 775,\n",
       "   'time': '2024-04-21T21:00:00.000000000Z',\n",
       "   'bid': {'o': '1.06491', 'h': '1.06608', 'l': '1.06478', 'c': '1.06549'},\n",
       "   'mid': {'o': '1.06535', 'h': '1.06624', 'l': '1.06528', 'c': '1.06575'},\n",
       "   'ask': {'o': '1.06579', 'h': '1.06660', 'l': '1.06578', 'c': '1.06601'}},\n",
       "  {'complete': True,\n",
       "   'volume': 787,\n",
       "   'time': '2024-04-21T22:00:00.000000000Z',\n",
       "   'bid': {'o': '1.06532', 'h': '1.06609', 'l': '1.06532', 'c': '1.06582'},\n",
       "   'mid': {'o': '1.06564', 'h': '1.06618', 'l': '1.06546', 'c': '1.06590'},\n",
       "   'ask': {'o': '1.06595', 'h': '1.06626', 'l': '1.06555', 'c': '1.06598'}},\n",
       "  {'complete': True,\n",
       "   'volume': 910,\n",
       "   'time': '2024-04-21T23:00:00.000000000Z',\n",
       "   'bid': {'o': '1.06587', 'h': '1.06604', 'l': '1.06569', 'c': '1.06569'},\n",
       "   'mid': {'o': '1.06596', 'h': '1.06612', 'l': '1.06576', 'c': '1.06576'},\n",
       "   'ask': {'o': '1.06605', 'h': '1.06619', 'l': '1.06584', 'c': '1.06584'}},\n",
       "  {'complete': True,\n",
       "   'volume': 3197,\n",
       "   'time': '2024-04-22T00:00:00.000000000Z',\n",
       "   'bid': {'o': '1.06570', 'h': '1.06644', 'l': '1.06520', 'c': '1.06526'},\n",
       "   'mid': {'o': '1.06577', 'h': '1.06652', 'l': '1.06527', 'c': '1.06534'},\n",
       "   'ask': {'o': '1.06584', 'h': '1.06659', 'l': '1.06534', 'c': '1.06541'}},\n",
       "  {'complete': True,\n",
       "   'volume': 3610,\n",
       "   'time': '2024-04-22T01:00:00.000000000Z',\n",
       "   'bid': {'o': '1.06526', 'h': '1.06691', 'l': '1.06525', 'c': '1.06675'},\n",
       "   'mid': {'o': '1.06534', 'h': '1.06698', 'l': '1.06532', 'c': '1.06683'},\n",
       "   'ask': {'o': '1.06542', 'h': '1.06706', 'l': '1.06540', 'c': '1.06691'}},\n",
       "  {'complete': True,\n",
       "   'volume': 1587,\n",
       "   'time': '2024-04-22T02:00:00.000000000Z',\n",
       "   'bid': {'o': '1.06674', 'h': '1.06701', 'l': '1.06631', 'c': '1.06634'},\n",
       "   'mid': {'o': '1.06682', 'h': '1.06708', 'l': '1.06638', 'c': '1.06641'},\n",
       "   'ask': {'o': '1.06689', 'h': '1.06716', 'l': '1.06645', 'c': '1.06648'}},\n",
       "  {'complete': True,\n",
       "   'volume': 1215,\n",
       "   'time': '2024-04-22T03:00:00.000000000Z',\n",
       "   'bid': {'o': '1.06633', 'h': '1.06638', 'l': '1.06597', 'c': '1.06610'},\n",
       "   'mid': {'o': '1.06640', 'h': '1.06646', 'l': '1.06604', 'c': '1.06617'},\n",
       "   'ask': {'o': '1.06648', 'h': '1.06653', 'l': '1.06611', 'c': '1.06624'}},\n",
       "  {'complete': True,\n",
       "   'volume': 1043,\n",
       "   'time': '2024-04-22T04:00:00.000000000Z',\n",
       "   'bid': {'o': '1.06608', 'h': '1.06680', 'l': '1.06607', 'c': '1.06646'},\n",
       "   'mid': {'o': '1.06616', 'h': '1.06688', 'l': '1.06614', 'c': '1.06654'},\n",
       "   'ask': {'o': '1.06625', 'h': '1.06695', 'l': '1.06622', 'c': '1.06661'}},\n",
       "  {'complete': False,\n",
       "   'volume': 1539,\n",
       "   'time': '2024-04-22T05:00:00.000000000Z',\n",
       "   'bid': {'o': '1.06651', 'h': '1.06654', 'l': '1.06610', 'c': '1.06636'},\n",
       "   'mid': {'o': '1.06658', 'h': '1.06661', 'l': '1.06618', 'c': '1.06643'},\n",
       "   'ask': {'o': '1.06665', 'h': '1.06669', 'l': '1.06626', 'c': '1.06650'}}]}"
      ]
     },
     "execution_count": 7,
     "metadata": {},
     "output_type": "execute_result"
    }
   ],
   "source": [
    "response.status_code\n",
    "response.json()"
   ]
  },
  {
   "cell_type": "code",
   "execution_count": null,
   "metadata": {},
   "outputs": [],
   "source": []
  }
 ],
 "metadata": {
  "kernelspec": {
   "display_name": "venv",
   "language": "python",
   "name": "python3"
  },
  "language_info": {
   "codemirror_mode": {
    "name": "ipython",
    "version": 3
   },
   "file_extension": ".py",
   "mimetype": "text/x-python",
   "name": "python",
   "nbconvert_exporter": "python",
   "pygments_lexer": "ipython3",
   "version": "3.11.7"
  }
 },
 "nbformat": 4,
 "nbformat_minor": 2
}
