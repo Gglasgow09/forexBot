{
 "cells": [
  {
   "cell_type": "code",
   "execution_count": 8,
   "metadata": {},
   "outputs": [],
   "source": [
    "import requests\n",
    "import pandas as pd\n",
    "import defs"
   ]
  },
  {
   "cell_type": "code",
   "execution_count": 9,
   "metadata": {},
   "outputs": [],
   "source": [
    "session = requests.Session()"
   ]
  },
  {
   "cell_type": "code",
   "execution_count": 10,
   "metadata": {},
   "outputs": [],
   "source": [
    "instrument = \"EUR_USD\"\n",
    "count = 10\n",
    "granularity = \"H1\"\n",
    "\n"
   ]
  },
  {
   "cell_type": "code",
   "execution_count": 11,
   "metadata": {},
   "outputs": [
    {
     "data": {
      "text/plain": [
       "'https://api-fxpractice.oanda.com/v3/instruments/EUR_USD/candles'"
      ]
     },
     "execution_count": 11,
     "metadata": {},
     "output_type": "execute_result"
    }
   ],
   "source": [
    "url = f\"{defs.OANDA_URL}/instruments/{instrument}/candles\"\n",
    "url"
   ]
  },
  {
   "cell_type": "code",
   "execution_count": 12,
   "metadata": {},
   "outputs": [
    {
     "data": {
      "text/plain": [
       "{'count': 10, 'granularity': 'H1', 'price': 'MBA'}"
      ]
     },
     "execution_count": 12,
     "metadata": {},
     "output_type": "execute_result"
    }
   ],
   "source": [
    "params = dict(\n",
    "    count = count,\n",
    "    granularity = granularity,\n",
    "    price = \"MBA\"\n",
    ")\n",
    "params"
   ]
  },
  {
   "cell_type": "code",
   "execution_count": 13,
   "metadata": {},
   "outputs": [],
   "source": [
    "response = session.get(url, params=params, headers=defs.SECURE_HEADER)"
   ]
  },
  {
   "cell_type": "code",
   "execution_count": 14,
   "metadata": {},
   "outputs": [
    {
     "data": {
      "text/plain": [
       "{'instrument': 'EUR_USD',\n",
       " 'granularity': 'H1',\n",
       " 'candles': [{'complete': True,\n",
       "   'volume': 8683,\n",
       "   'time': '2024-04-25T13:00:00.000000000Z',\n",
       "   'bid': {'o': '1.06916', 'h': '1.07031', 'l': '1.06776', 'c': '1.06999'},\n",
       "   'mid': {'o': '1.06924', 'h': '1.07038', 'l': '1.06784', 'c': '1.07007'},\n",
       "   'ask': {'o': '1.06931', 'h': '1.07045', 'l': '1.06791', 'c': '1.07015'}},\n",
       "  {'complete': True,\n",
       "   'volume': 7137,\n",
       "   'time': '2024-04-25T14:00:00.000000000Z',\n",
       "   'bid': {'o': '1.07001', 'h': '1.07201', 'l': '1.06919', 'c': '1.07109'},\n",
       "   'mid': {'o': '1.07008', 'h': '1.07208', 'l': '1.06926', 'c': '1.07116'},\n",
       "   'ask': {'o': '1.07015', 'h': '1.07216', 'l': '1.06934', 'c': '1.07124'}},\n",
       "  {'complete': True,\n",
       "   'volume': 3991,\n",
       "   'time': '2024-04-25T15:00:00.000000000Z',\n",
       "   'bid': {'o': '1.07109', 'h': '1.07209', 'l': '1.07071', 'c': '1.07197'},\n",
       "   'mid': {'o': '1.07117', 'h': '1.07217', 'l': '1.07078', 'c': '1.07204'},\n",
       "   'ask': {'o': '1.07125', 'h': '1.07225', 'l': '1.07085', 'c': '1.07211'}},\n",
       "  {'complete': True,\n",
       "   'volume': 3148,\n",
       "   'time': '2024-04-25T16:00:00.000000000Z',\n",
       "   'bid': {'o': '1.07194', 'h': '1.07345', 'l': '1.07145', 'c': '1.07304'},\n",
       "   'mid': {'o': '1.07201', 'h': '1.07352', 'l': '1.07152', 'c': '1.07312'},\n",
       "   'ask': {'o': '1.07208', 'h': '1.07360', 'l': '1.07159', 'c': '1.07319'}},\n",
       "  {'complete': True,\n",
       "   'volume': 3577,\n",
       "   'time': '2024-04-25T17:00:00.000000000Z',\n",
       "   'bid': {'o': '1.07305', 'h': '1.07381', 'l': '1.07287', 'c': '1.07295'},\n",
       "   'mid': {'o': '1.07312', 'h': '1.07388', 'l': '1.07294', 'c': '1.07302'},\n",
       "   'ask': {'o': '1.07319', 'h': '1.07395', 'l': '1.07301', 'c': '1.07309'}},\n",
       "  {'complete': True,\n",
       "   'volume': 2908,\n",
       "   'time': '2024-04-25T18:00:00.000000000Z',\n",
       "   'bid': {'o': '1.07294', 'h': '1.07294', 'l': '1.07223', 'c': '1.07265'},\n",
       "   'mid': {'o': '1.07301', 'h': '1.07301', 'l': '1.07230', 'c': '1.07272'},\n",
       "   'ask': {'o': '1.07308', 'h': '1.07308', 'l': '1.07238', 'c': '1.07280'}},\n",
       "  {'complete': True,\n",
       "   'volume': 1978,\n",
       "   'time': '2024-04-25T19:00:00.000000000Z',\n",
       "   'bid': {'o': '1.07267', 'h': '1.07341', 'l': '1.07263', 'c': '1.07288'},\n",
       "   'mid': {'o': '1.07274', 'h': '1.07348', 'l': '1.07270', 'c': '1.07296'},\n",
       "   'ask': {'o': '1.07281', 'h': '1.07355', 'l': '1.07278', 'c': '1.07303'}},\n",
       "  {'complete': True,\n",
       "   'volume': 1015,\n",
       "   'time': '2024-04-25T20:00:00.000000000Z',\n",
       "   'bid': {'o': '1.07285', 'h': '1.07302', 'l': '1.07279', 'c': '1.07292'},\n",
       "   'mid': {'o': '1.07292', 'h': '1.07310', 'l': '1.07287', 'c': '1.07300'},\n",
       "   'ask': {'o': '1.07299', 'h': '1.07318', 'l': '1.07295', 'c': '1.07309'}},\n",
       "  {'complete': True,\n",
       "   'volume': 161,\n",
       "   'time': '2024-04-25T21:00:00.000000000Z',\n",
       "   'bid': {'o': '1.07281', 'h': '1.07288', 'l': '1.07278', 'c': '1.07282'},\n",
       "   'mid': {'o': '1.07294', 'h': '1.07298', 'l': '1.07289', 'c': '1.07292'},\n",
       "   'ask': {'o': '1.07308', 'h': '1.07309', 'l': '1.07298', 'c': '1.07303'}},\n",
       "  {'complete': False,\n",
       "   'volume': 166,\n",
       "   'time': '2024-04-25T22:00:00.000000000Z',\n",
       "   'bid': {'o': '1.07285', 'h': '1.07299', 'l': '1.07279', 'c': '1.07287'},\n",
       "   'mid': {'o': '1.07294', 'h': '1.07308', 'l': '1.07287', 'c': '1.07294'},\n",
       "   'ask': {'o': '1.07303', 'h': '1.07317', 'l': '1.07295', 'c': '1.07301'}}]}"
      ]
     },
     "execution_count": 14,
     "metadata": {},
     "output_type": "execute_result"
    }
   ],
   "source": [
    "response.status_code\n",
    "response.json()"
   ]
  },
  {
   "cell_type": "code",
   "execution_count": 15,
   "metadata": {},
   "outputs": [],
   "source": [
    "data = response.json()"
   ]
  },
  {
   "cell_type": "code",
   "execution_count": 16,
   "metadata": {},
   "outputs": [
    {
     "data": {
      "text/plain": [
       "dict_keys(['instrument', 'granularity', 'candles'])"
      ]
     },
     "execution_count": 16,
     "metadata": {},
     "output_type": "execute_result"
    }
   ],
   "source": [
    "data.keys()"
   ]
  },
  {
   "cell_type": "code",
   "execution_count": 17,
   "metadata": {},
   "outputs": [
    {
     "data": {
      "text/plain": [
       "10"
      ]
     },
     "execution_count": 17,
     "metadata": {},
     "output_type": "execute_result"
    }
   ],
   "source": [
    "len(data['candles'])"
   ]
  },
  {
   "cell_type": "code",
   "execution_count": 19,
   "metadata": {},
   "outputs": [],
   "source": [
    "prices = ['mid', 'bid', 'ask']\n",
    "ohlc = ['o', 'h', 'l', 'c']"
   ]
  },
  {
   "cell_type": "code",
   "execution_count": 20,
   "metadata": {},
   "outputs": [
    {
     "name": "stdout",
     "output_type": "stream",
     "text": [
      "mid_o\n",
      "mid_h\n",
      "mid_l\n",
      "mid_c\n",
      "bid_o\n",
      "bid_h\n",
      "bid_l\n",
      "bid_c\n",
      "ask_o\n",
      "ask_h\n",
      "ask_l\n",
      "ask_c\n"
     ]
    }
   ],
   "source": [
    "for price in prices:\n",
    "    for oh in ohlc:\n",
    "        print(f\"{price}_{oh}\")"
   ]
  },
  {
   "cell_type": "code",
   "execution_count": 24,
   "metadata": {},
   "outputs": [
    {
     "data": {
      "text/plain": [
       "'1.06916'"
      ]
     },
     "execution_count": 24,
     "metadata": {},
     "output_type": "execute_result"
    }
   ],
   "source": [
    "data['candles'][0]['bid']['o']"
   ]
  },
  {
   "cell_type": "code",
   "execution_count": 28,
   "metadata": {},
   "outputs": [
    {
     "name": "stdout",
     "output_type": "stream",
     "text": [
      "{'time': '2024-04-25T13:00:00.000000000Z', 'volume': 8683, 'mid_o': '1.06924', 'mid_h': '1.07038', 'mid_l': '1.06784', 'mid_c': '1.07007', 'bid_o': '1.06916', 'bid_h': '1.07031', 'bid_l': '1.06776', 'bid_c': '1.06999', 'ask_o': '1.06931', 'ask_h': '1.07045', 'ask_l': '1.06791', 'ask_c': '1.07015'}\n"
     ]
    }
   ],
   "source": [
    "our_data = []\n",
    "for candle in data['candles']:\n",
    "    if candle['complete'] == False:\n",
    "        continue\n",
    "\n",
    "    new_dict = {}\n",
    "    new_dict['time'] = candle['time']\n",
    "    new_dict['volume'] = candle['volume']\n",
    "    for price in prices:\n",
    "        for oh in ohlc:\n",
    "            new_dict[f\"{price}_{oh}\"] = candle[price][oh]\n",
    "    \n",
    "    our_data.append(new_dict)\n",
    "\n",
    "print(our_data[0])"
   ]
  },
  {
   "cell_type": "code",
   "execution_count": 29,
   "metadata": {},
   "outputs": [
    {
     "data": {
      "text/html": [
       "<div>\n",
       "<style scoped>\n",
       "    .dataframe tbody tr th:only-of-type {\n",
       "        vertical-align: middle;\n",
       "    }\n",
       "\n",
       "    .dataframe tbody tr th {\n",
       "        vertical-align: top;\n",
       "    }\n",
       "\n",
       "    .dataframe thead th {\n",
       "        text-align: right;\n",
       "    }\n",
       "</style>\n",
       "<table border=\"1\" class=\"dataframe\">\n",
       "  <thead>\n",
       "    <tr style=\"text-align: right;\">\n",
       "      <th></th>\n",
       "      <th>time</th>\n",
       "      <th>volume</th>\n",
       "      <th>mid_o</th>\n",
       "      <th>mid_h</th>\n",
       "      <th>mid_l</th>\n",
       "      <th>mid_c</th>\n",
       "      <th>bid_o</th>\n",
       "      <th>bid_h</th>\n",
       "      <th>bid_l</th>\n",
       "      <th>bid_c</th>\n",
       "      <th>ask_o</th>\n",
       "      <th>ask_h</th>\n",
       "      <th>ask_l</th>\n",
       "      <th>ask_c</th>\n",
       "    </tr>\n",
       "  </thead>\n",
       "  <tbody>\n",
       "    <tr>\n",
       "      <th>0</th>\n",
       "      <td>2024-04-25T13:00:00.000000000Z</td>\n",
       "      <td>8683</td>\n",
       "      <td>1.06924</td>\n",
       "      <td>1.07038</td>\n",
       "      <td>1.06784</td>\n",
       "      <td>1.07007</td>\n",
       "      <td>1.06916</td>\n",
       "      <td>1.07031</td>\n",
       "      <td>1.06776</td>\n",
       "      <td>1.06999</td>\n",
       "      <td>1.06931</td>\n",
       "      <td>1.07045</td>\n",
       "      <td>1.06791</td>\n",
       "      <td>1.07015</td>\n",
       "    </tr>\n",
       "    <tr>\n",
       "      <th>1</th>\n",
       "      <td>2024-04-25T14:00:00.000000000Z</td>\n",
       "      <td>7137</td>\n",
       "      <td>1.07008</td>\n",
       "      <td>1.07208</td>\n",
       "      <td>1.06926</td>\n",
       "      <td>1.07116</td>\n",
       "      <td>1.07001</td>\n",
       "      <td>1.07201</td>\n",
       "      <td>1.06919</td>\n",
       "      <td>1.07109</td>\n",
       "      <td>1.07015</td>\n",
       "      <td>1.07216</td>\n",
       "      <td>1.06934</td>\n",
       "      <td>1.07124</td>\n",
       "    </tr>\n",
       "    <tr>\n",
       "      <th>2</th>\n",
       "      <td>2024-04-25T15:00:00.000000000Z</td>\n",
       "      <td>3991</td>\n",
       "      <td>1.07117</td>\n",
       "      <td>1.07217</td>\n",
       "      <td>1.07078</td>\n",
       "      <td>1.07204</td>\n",
       "      <td>1.07109</td>\n",
       "      <td>1.07209</td>\n",
       "      <td>1.07071</td>\n",
       "      <td>1.07197</td>\n",
       "      <td>1.07125</td>\n",
       "      <td>1.07225</td>\n",
       "      <td>1.07085</td>\n",
       "      <td>1.07211</td>\n",
       "    </tr>\n",
       "    <tr>\n",
       "      <th>3</th>\n",
       "      <td>2024-04-25T16:00:00.000000000Z</td>\n",
       "      <td>3148</td>\n",
       "      <td>1.07201</td>\n",
       "      <td>1.07352</td>\n",
       "      <td>1.07152</td>\n",
       "      <td>1.07312</td>\n",
       "      <td>1.07194</td>\n",
       "      <td>1.07345</td>\n",
       "      <td>1.07145</td>\n",
       "      <td>1.07304</td>\n",
       "      <td>1.07208</td>\n",
       "      <td>1.07360</td>\n",
       "      <td>1.07159</td>\n",
       "      <td>1.07319</td>\n",
       "    </tr>\n",
       "    <tr>\n",
       "      <th>4</th>\n",
       "      <td>2024-04-25T17:00:00.000000000Z</td>\n",
       "      <td>3577</td>\n",
       "      <td>1.07312</td>\n",
       "      <td>1.07388</td>\n",
       "      <td>1.07294</td>\n",
       "      <td>1.07302</td>\n",
       "      <td>1.07305</td>\n",
       "      <td>1.07381</td>\n",
       "      <td>1.07287</td>\n",
       "      <td>1.07295</td>\n",
       "      <td>1.07319</td>\n",
       "      <td>1.07395</td>\n",
       "      <td>1.07301</td>\n",
       "      <td>1.07309</td>\n",
       "    </tr>\n",
       "    <tr>\n",
       "      <th>5</th>\n",
       "      <td>2024-04-25T18:00:00.000000000Z</td>\n",
       "      <td>2908</td>\n",
       "      <td>1.07301</td>\n",
       "      <td>1.07301</td>\n",
       "      <td>1.07230</td>\n",
       "      <td>1.07272</td>\n",
       "      <td>1.07294</td>\n",
       "      <td>1.07294</td>\n",
       "      <td>1.07223</td>\n",
       "      <td>1.07265</td>\n",
       "      <td>1.07308</td>\n",
       "      <td>1.07308</td>\n",
       "      <td>1.07238</td>\n",
       "      <td>1.07280</td>\n",
       "    </tr>\n",
       "    <tr>\n",
       "      <th>6</th>\n",
       "      <td>2024-04-25T19:00:00.000000000Z</td>\n",
       "      <td>1978</td>\n",
       "      <td>1.07274</td>\n",
       "      <td>1.07348</td>\n",
       "      <td>1.07270</td>\n",
       "      <td>1.07296</td>\n",
       "      <td>1.07267</td>\n",
       "      <td>1.07341</td>\n",
       "      <td>1.07263</td>\n",
       "      <td>1.07288</td>\n",
       "      <td>1.07281</td>\n",
       "      <td>1.07355</td>\n",
       "      <td>1.07278</td>\n",
       "      <td>1.07303</td>\n",
       "    </tr>\n",
       "    <tr>\n",
       "      <th>7</th>\n",
       "      <td>2024-04-25T20:00:00.000000000Z</td>\n",
       "      <td>1015</td>\n",
       "      <td>1.07292</td>\n",
       "      <td>1.07310</td>\n",
       "      <td>1.07287</td>\n",
       "      <td>1.07300</td>\n",
       "      <td>1.07285</td>\n",
       "      <td>1.07302</td>\n",
       "      <td>1.07279</td>\n",
       "      <td>1.07292</td>\n",
       "      <td>1.07299</td>\n",
       "      <td>1.07318</td>\n",
       "      <td>1.07295</td>\n",
       "      <td>1.07309</td>\n",
       "    </tr>\n",
       "    <tr>\n",
       "      <th>8</th>\n",
       "      <td>2024-04-25T21:00:00.000000000Z</td>\n",
       "      <td>161</td>\n",
       "      <td>1.07294</td>\n",
       "      <td>1.07298</td>\n",
       "      <td>1.07289</td>\n",
       "      <td>1.07292</td>\n",
       "      <td>1.07281</td>\n",
       "      <td>1.07288</td>\n",
       "      <td>1.07278</td>\n",
       "      <td>1.07282</td>\n",
       "      <td>1.07308</td>\n",
       "      <td>1.07309</td>\n",
       "      <td>1.07298</td>\n",
       "      <td>1.07303</td>\n",
       "    </tr>\n",
       "  </tbody>\n",
       "</table>\n",
       "</div>"
      ],
      "text/plain": [
       "                             time  volume    mid_o    mid_h    mid_l    mid_c  \\\n",
       "0  2024-04-25T13:00:00.000000000Z    8683  1.06924  1.07038  1.06784  1.07007   \n",
       "1  2024-04-25T14:00:00.000000000Z    7137  1.07008  1.07208  1.06926  1.07116   \n",
       "2  2024-04-25T15:00:00.000000000Z    3991  1.07117  1.07217  1.07078  1.07204   \n",
       "3  2024-04-25T16:00:00.000000000Z    3148  1.07201  1.07352  1.07152  1.07312   \n",
       "4  2024-04-25T17:00:00.000000000Z    3577  1.07312  1.07388  1.07294  1.07302   \n",
       "5  2024-04-25T18:00:00.000000000Z    2908  1.07301  1.07301  1.07230  1.07272   \n",
       "6  2024-04-25T19:00:00.000000000Z    1978  1.07274  1.07348  1.07270  1.07296   \n",
       "7  2024-04-25T20:00:00.000000000Z    1015  1.07292  1.07310  1.07287  1.07300   \n",
       "8  2024-04-25T21:00:00.000000000Z     161  1.07294  1.07298  1.07289  1.07292   \n",
       "\n",
       "     bid_o    bid_h    bid_l    bid_c    ask_o    ask_h    ask_l    ask_c  \n",
       "0  1.06916  1.07031  1.06776  1.06999  1.06931  1.07045  1.06791  1.07015  \n",
       "1  1.07001  1.07201  1.06919  1.07109  1.07015  1.07216  1.06934  1.07124  \n",
       "2  1.07109  1.07209  1.07071  1.07197  1.07125  1.07225  1.07085  1.07211  \n",
       "3  1.07194  1.07345  1.07145  1.07304  1.07208  1.07360  1.07159  1.07319  \n",
       "4  1.07305  1.07381  1.07287  1.07295  1.07319  1.07395  1.07301  1.07309  \n",
       "5  1.07294  1.07294  1.07223  1.07265  1.07308  1.07308  1.07238  1.07280  \n",
       "6  1.07267  1.07341  1.07263  1.07288  1.07281  1.07355  1.07278  1.07303  \n",
       "7  1.07285  1.07302  1.07279  1.07292  1.07299  1.07318  1.07295  1.07309  \n",
       "8  1.07281  1.07288  1.07278  1.07282  1.07308  1.07309  1.07298  1.07303  "
      ]
     },
     "execution_count": 29,
     "metadata": {},
     "output_type": "execute_result"
    }
   ],
   "source": [
    "candles_df = pd.DataFrame.from_dict(our_data)\n",
    "candles_df"
   ]
  },
  {
   "cell_type": "code",
   "execution_count": 30,
   "metadata": {},
   "outputs": [],
   "source": [
    "candles_df.to_pickle(\"EUR_USD_H1.pkl\")"
   ]
  },
  {
   "cell_type": "code",
   "execution_count": 31,
   "metadata": {},
   "outputs": [],
   "source": [
    "test_df = pd.read_pickle(\"EUR_USD_H1.pkl\")"
   ]
  },
  {
   "cell_type": "code",
   "execution_count": 32,
   "metadata": {},
   "outputs": [
    {
     "data": {
      "text/html": [
       "<div>\n",
       "<style scoped>\n",
       "    .dataframe tbody tr th:only-of-type {\n",
       "        vertical-align: middle;\n",
       "    }\n",
       "\n",
       "    .dataframe tbody tr th {\n",
       "        vertical-align: top;\n",
       "    }\n",
       "\n",
       "    .dataframe thead th {\n",
       "        text-align: right;\n",
       "    }\n",
       "</style>\n",
       "<table border=\"1\" class=\"dataframe\">\n",
       "  <thead>\n",
       "    <tr style=\"text-align: right;\">\n",
       "      <th></th>\n",
       "      <th>time</th>\n",
       "      <th>volume</th>\n",
       "      <th>mid_o</th>\n",
       "      <th>mid_h</th>\n",
       "      <th>mid_l</th>\n",
       "      <th>mid_c</th>\n",
       "      <th>bid_o</th>\n",
       "      <th>bid_h</th>\n",
       "      <th>bid_l</th>\n",
       "      <th>bid_c</th>\n",
       "      <th>ask_o</th>\n",
       "      <th>ask_h</th>\n",
       "      <th>ask_l</th>\n",
       "      <th>ask_c</th>\n",
       "    </tr>\n",
       "  </thead>\n",
       "  <tbody>\n",
       "    <tr>\n",
       "      <th>0</th>\n",
       "      <td>2024-04-25T13:00:00.000000000Z</td>\n",
       "      <td>8683</td>\n",
       "      <td>1.06924</td>\n",
       "      <td>1.07038</td>\n",
       "      <td>1.06784</td>\n",
       "      <td>1.07007</td>\n",
       "      <td>1.06916</td>\n",
       "      <td>1.07031</td>\n",
       "      <td>1.06776</td>\n",
       "      <td>1.06999</td>\n",
       "      <td>1.06931</td>\n",
       "      <td>1.07045</td>\n",
       "      <td>1.06791</td>\n",
       "      <td>1.07015</td>\n",
       "    </tr>\n",
       "    <tr>\n",
       "      <th>1</th>\n",
       "      <td>2024-04-25T14:00:00.000000000Z</td>\n",
       "      <td>7137</td>\n",
       "      <td>1.07008</td>\n",
       "      <td>1.07208</td>\n",
       "      <td>1.06926</td>\n",
       "      <td>1.07116</td>\n",
       "      <td>1.07001</td>\n",
       "      <td>1.07201</td>\n",
       "      <td>1.06919</td>\n",
       "      <td>1.07109</td>\n",
       "      <td>1.07015</td>\n",
       "      <td>1.07216</td>\n",
       "      <td>1.06934</td>\n",
       "      <td>1.07124</td>\n",
       "    </tr>\n",
       "    <tr>\n",
       "      <th>2</th>\n",
       "      <td>2024-04-25T15:00:00.000000000Z</td>\n",
       "      <td>3991</td>\n",
       "      <td>1.07117</td>\n",
       "      <td>1.07217</td>\n",
       "      <td>1.07078</td>\n",
       "      <td>1.07204</td>\n",
       "      <td>1.07109</td>\n",
       "      <td>1.07209</td>\n",
       "      <td>1.07071</td>\n",
       "      <td>1.07197</td>\n",
       "      <td>1.07125</td>\n",
       "      <td>1.07225</td>\n",
       "      <td>1.07085</td>\n",
       "      <td>1.07211</td>\n",
       "    </tr>\n",
       "    <tr>\n",
       "      <th>3</th>\n",
       "      <td>2024-04-25T16:00:00.000000000Z</td>\n",
       "      <td>3148</td>\n",
       "      <td>1.07201</td>\n",
       "      <td>1.07352</td>\n",
       "      <td>1.07152</td>\n",
       "      <td>1.07312</td>\n",
       "      <td>1.07194</td>\n",
       "      <td>1.07345</td>\n",
       "      <td>1.07145</td>\n",
       "      <td>1.07304</td>\n",
       "      <td>1.07208</td>\n",
       "      <td>1.07360</td>\n",
       "      <td>1.07159</td>\n",
       "      <td>1.07319</td>\n",
       "    </tr>\n",
       "    <tr>\n",
       "      <th>4</th>\n",
       "      <td>2024-04-25T17:00:00.000000000Z</td>\n",
       "      <td>3577</td>\n",
       "      <td>1.07312</td>\n",
       "      <td>1.07388</td>\n",
       "      <td>1.07294</td>\n",
       "      <td>1.07302</td>\n",
       "      <td>1.07305</td>\n",
       "      <td>1.07381</td>\n",
       "      <td>1.07287</td>\n",
       "      <td>1.07295</td>\n",
       "      <td>1.07319</td>\n",
       "      <td>1.07395</td>\n",
       "      <td>1.07301</td>\n",
       "      <td>1.07309</td>\n",
       "    </tr>\n",
       "    <tr>\n",
       "      <th>5</th>\n",
       "      <td>2024-04-25T18:00:00.000000000Z</td>\n",
       "      <td>2908</td>\n",
       "      <td>1.07301</td>\n",
       "      <td>1.07301</td>\n",
       "      <td>1.07230</td>\n",
       "      <td>1.07272</td>\n",
       "      <td>1.07294</td>\n",
       "      <td>1.07294</td>\n",
       "      <td>1.07223</td>\n",
       "      <td>1.07265</td>\n",
       "      <td>1.07308</td>\n",
       "      <td>1.07308</td>\n",
       "      <td>1.07238</td>\n",
       "      <td>1.07280</td>\n",
       "    </tr>\n",
       "    <tr>\n",
       "      <th>6</th>\n",
       "      <td>2024-04-25T19:00:00.000000000Z</td>\n",
       "      <td>1978</td>\n",
       "      <td>1.07274</td>\n",
       "      <td>1.07348</td>\n",
       "      <td>1.07270</td>\n",
       "      <td>1.07296</td>\n",
       "      <td>1.07267</td>\n",
       "      <td>1.07341</td>\n",
       "      <td>1.07263</td>\n",
       "      <td>1.07288</td>\n",
       "      <td>1.07281</td>\n",
       "      <td>1.07355</td>\n",
       "      <td>1.07278</td>\n",
       "      <td>1.07303</td>\n",
       "    </tr>\n",
       "    <tr>\n",
       "      <th>7</th>\n",
       "      <td>2024-04-25T20:00:00.000000000Z</td>\n",
       "      <td>1015</td>\n",
       "      <td>1.07292</td>\n",
       "      <td>1.07310</td>\n",
       "      <td>1.07287</td>\n",
       "      <td>1.07300</td>\n",
       "      <td>1.07285</td>\n",
       "      <td>1.07302</td>\n",
       "      <td>1.07279</td>\n",
       "      <td>1.07292</td>\n",
       "      <td>1.07299</td>\n",
       "      <td>1.07318</td>\n",
       "      <td>1.07295</td>\n",
       "      <td>1.07309</td>\n",
       "    </tr>\n",
       "    <tr>\n",
       "      <th>8</th>\n",
       "      <td>2024-04-25T21:00:00.000000000Z</td>\n",
       "      <td>161</td>\n",
       "      <td>1.07294</td>\n",
       "      <td>1.07298</td>\n",
       "      <td>1.07289</td>\n",
       "      <td>1.07292</td>\n",
       "      <td>1.07281</td>\n",
       "      <td>1.07288</td>\n",
       "      <td>1.07278</td>\n",
       "      <td>1.07282</td>\n",
       "      <td>1.07308</td>\n",
       "      <td>1.07309</td>\n",
       "      <td>1.07298</td>\n",
       "      <td>1.07303</td>\n",
       "    </tr>\n",
       "  </tbody>\n",
       "</table>\n",
       "</div>"
      ],
      "text/plain": [
       "                             time  volume    mid_o    mid_h    mid_l    mid_c  \\\n",
       "0  2024-04-25T13:00:00.000000000Z    8683  1.06924  1.07038  1.06784  1.07007   \n",
       "1  2024-04-25T14:00:00.000000000Z    7137  1.07008  1.07208  1.06926  1.07116   \n",
       "2  2024-04-25T15:00:00.000000000Z    3991  1.07117  1.07217  1.07078  1.07204   \n",
       "3  2024-04-25T16:00:00.000000000Z    3148  1.07201  1.07352  1.07152  1.07312   \n",
       "4  2024-04-25T17:00:00.000000000Z    3577  1.07312  1.07388  1.07294  1.07302   \n",
       "5  2024-04-25T18:00:00.000000000Z    2908  1.07301  1.07301  1.07230  1.07272   \n",
       "6  2024-04-25T19:00:00.000000000Z    1978  1.07274  1.07348  1.07270  1.07296   \n",
       "7  2024-04-25T20:00:00.000000000Z    1015  1.07292  1.07310  1.07287  1.07300   \n",
       "8  2024-04-25T21:00:00.000000000Z     161  1.07294  1.07298  1.07289  1.07292   \n",
       "\n",
       "     bid_o    bid_h    bid_l    bid_c    ask_o    ask_h    ask_l    ask_c  \n",
       "0  1.06916  1.07031  1.06776  1.06999  1.06931  1.07045  1.06791  1.07015  \n",
       "1  1.07001  1.07201  1.06919  1.07109  1.07015  1.07216  1.06934  1.07124  \n",
       "2  1.07109  1.07209  1.07071  1.07197  1.07125  1.07225  1.07085  1.07211  \n",
       "3  1.07194  1.07345  1.07145  1.07304  1.07208  1.07360  1.07159  1.07319  \n",
       "4  1.07305  1.07381  1.07287  1.07295  1.07319  1.07395  1.07301  1.07309  \n",
       "5  1.07294  1.07294  1.07223  1.07265  1.07308  1.07308  1.07238  1.07280  \n",
       "6  1.07267  1.07341  1.07263  1.07288  1.07281  1.07355  1.07278  1.07303  \n",
       "7  1.07285  1.07302  1.07279  1.07292  1.07299  1.07318  1.07295  1.07309  \n",
       "8  1.07281  1.07288  1.07278  1.07282  1.07308  1.07309  1.07298  1.07303  "
      ]
     },
     "execution_count": 32,
     "metadata": {},
     "output_type": "execute_result"
    }
   ],
   "source": [
    "test_df"
   ]
  }
 ],
 "metadata": {
  "kernelspec": {
   "display_name": "venv",
   "language": "python",
   "name": "python3"
  },
  "language_info": {
   "codemirror_mode": {
    "name": "ipython",
    "version": 3
   },
   "file_extension": ".py",
   "mimetype": "text/x-python",
   "name": "python",
   "nbconvert_exporter": "python",
   "pygments_lexer": "ipython3",
   "version": "3.11.7"
  }
 },
 "nbformat": 4,
 "nbformat_minor": 2
}
