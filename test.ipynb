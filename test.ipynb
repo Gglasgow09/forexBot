{
 "cells": [
  {
   "cell_type": "code",
   "execution_count": 27,
   "metadata": {},
   "outputs": [],
   "source": [
    "import requests\n",
    "import pandas as pd\n",
    "import defs"
   ]
  },
  {
   "cell_type": "code",
   "execution_count": 28,
   "metadata": {},
   "outputs": [],
   "source": [
    "session = requests.Session()"
   ]
  },
  {
   "cell_type": "code",
   "execution_count": 29,
   "metadata": {},
   "outputs": [],
   "source": [
    "instrument = \"EUR_USD\"\n",
    "count = 10\n",
    "granularity = \"H1\""
   ]
  },
  {
   "cell_type": "code",
   "execution_count": 30,
   "metadata": {},
   "outputs": [
    {
     "data": {
      "text/plain": [
       "'https://api-fxpractice.oanda.com/v3/instruments/EUR_USD/candles'"
      ]
     },
     "execution_count": 30,
     "metadata": {},
     "output_type": "execute_result"
    }
   ],
   "source": [
    "url = f\"{defs.OANDA_URL}/instruments/{instrument}/candles\"\n",
    "url"
   ]
  },
  {
   "cell_type": "code",
   "execution_count": 31,
   "metadata": {},
   "outputs": [
    {
     "data": {
      "text/plain": [
       "{'count': 10, 'granularity': 'H1', 'price': 'MBA'}"
      ]
     },
     "execution_count": 31,
     "metadata": {},
     "output_type": "execute_result"
    }
   ],
   "source": [
    "params = dict(\n",
    "    count = count,\n",
    "    granularity = granularity,\n",
    "    price = \"MBA\"\n",
    ")\n",
    "params"
   ]
  },
  {
   "cell_type": "code",
   "execution_count": 32,
   "metadata": {},
   "outputs": [],
   "source": [
    "response = session.get(url, params=params, headers=defs.SECURE_HEADER)"
   ]
  },
  {
   "cell_type": "code",
   "execution_count": 33,
   "metadata": {},
   "outputs": [
    {
     "data": {
      "text/plain": [
       "200"
      ]
     },
     "execution_count": 33,
     "metadata": {},
     "output_type": "execute_result"
    }
   ],
   "source": [
    "response.status_code"
   ]
  },
  {
   "cell_type": "code",
   "execution_count": 34,
   "metadata": {},
   "outputs": [
    {
     "data": {
      "text/plain": [
       "{'instrument': 'EUR_USD',\n",
       " 'granularity': 'H1',\n",
       " 'candles': [{'complete': True,\n",
       "   'volume': 4204,\n",
       "   'time': '2024-07-29T15:00:00.000000000Z',\n",
       "   'bid': {'o': '1.08148', 'h': '1.08232', 'l': '1.08147', 'c': '1.08181'},\n",
       "   'mid': {'o': '1.08156', 'h': '1.08239', 'l': '1.08154', 'c': '1.08189'},\n",
       "   'ask': {'o': '1.08163', 'h': '1.08246', 'l': '1.08162', 'c': '1.08197'}},\n",
       "  {'complete': True,\n",
       "   'volume': 3435,\n",
       "   'time': '2024-07-29T16:00:00.000000000Z',\n",
       "   'bid': {'o': '1.08184', 'h': '1.08230', 'l': '1.08142', 'c': '1.08207'},\n",
       "   'mid': {'o': '1.08192', 'h': '1.08238', 'l': '1.08150', 'c': '1.08215'},\n",
       "   'ask': {'o': '1.08199', 'h': '1.08246', 'l': '1.08158', 'c': '1.08223'}},\n",
       "  {'complete': True,\n",
       "   'volume': 3187,\n",
       "   'time': '2024-07-29T17:00:00.000000000Z',\n",
       "   'bid': {'o': '1.08209', 'h': '1.08253', 'l': '1.08188', 'c': '1.08242'},\n",
       "   'mid': {'o': '1.08216', 'h': '1.08260', 'l': '1.08196', 'c': '1.08250'},\n",
       "   'ask': {'o': '1.08224', 'h': '1.08268', 'l': '1.08203', 'c': '1.08258'}},\n",
       "  {'complete': True,\n",
       "   'volume': 3019,\n",
       "   'time': '2024-07-29T18:00:00.000000000Z',\n",
       "   'bid': {'o': '1.08240', 'h': '1.08243', 'l': '1.08186', 'c': '1.08209'},\n",
       "   'mid': {'o': '1.08248', 'h': '1.08250', 'l': '1.08194', 'c': '1.08216'},\n",
       "   'ask': {'o': '1.08256', 'h': '1.08258', 'l': '1.08202', 'c': '1.08224'}},\n",
       "  {'complete': True,\n",
       "   'volume': 3087,\n",
       "   'time': '2024-07-29T19:00:00.000000000Z',\n",
       "   'bid': {'o': '1.08210', 'h': '1.08249', 'l': '1.08210', 'c': '1.08229'},\n",
       "   'mid': {'o': '1.08218', 'h': '1.08257', 'l': '1.08218', 'c': '1.08237'},\n",
       "   'ask': {'o': '1.08226', 'h': '1.08265', 'l': '1.08225', 'c': '1.08245'}},\n",
       "  {'complete': True,\n",
       "   'volume': 1738,\n",
       "   'time': '2024-07-29T20:00:00.000000000Z',\n",
       "   'bid': {'o': '1.08230', 'h': '1.08231', 'l': '1.08190', 'c': '1.08205'},\n",
       "   'mid': {'o': '1.08237', 'h': '1.08238', 'l': '1.08198', 'c': '1.08212'},\n",
       "   'ask': {'o': '1.08244', 'h': '1.08246', 'l': '1.08206', 'c': '1.08219'}},\n",
       "  {'complete': True,\n",
       "   'volume': 346,\n",
       "   'time': '2024-07-29T21:00:00.000000000Z',\n",
       "   'bid': {'o': '1.08191', 'h': '1.08228', 'l': '1.08191', 'c': '1.08220'},\n",
       "   'mid': {'o': '1.08227', 'h': '1.08242', 'l': '1.08220', 'c': '1.08230'},\n",
       "   'ask': {'o': '1.08263', 'h': '1.08263', 'l': '1.08230', 'c': '1.08241'}},\n",
       "  {'complete': True,\n",
       "   'volume': 664,\n",
       "   'time': '2024-07-29T22:00:00.000000000Z',\n",
       "   'bid': {'o': '1.08227', 'h': '1.08229', 'l': '1.08211', 'c': '1.08215'},\n",
       "   'mid': {'o': '1.08238', 'h': '1.08238', 'l': '1.08220', 'c': '1.08223'},\n",
       "   'ask': {'o': '1.08248', 'h': '1.08250', 'l': '1.08228', 'c': '1.08231'}},\n",
       "  {'complete': True,\n",
       "   'volume': 1198,\n",
       "   'time': '2024-07-29T23:00:00.000000000Z',\n",
       "   'bid': {'o': '1.08214', 'h': '1.08216', 'l': '1.08175', 'c': '1.08184'},\n",
       "   'mid': {'o': '1.08222', 'h': '1.08223', 'l': '1.08184', 'c': '1.08192'},\n",
       "   'ask': {'o': '1.08229', 'h': '1.08230', 'l': '1.08191', 'c': '1.08199'}},\n",
       "  {'complete': False,\n",
       "   'volume': 466,\n",
       "   'time': '2024-07-30T00:00:00.000000000Z',\n",
       "   'bid': {'o': '1.08185', 'h': '1.08185', 'l': '1.08163', 'c': '1.08178'},\n",
       "   'mid': {'o': '1.08192', 'h': '1.08193', 'l': '1.08171', 'c': '1.08186'},\n",
       "   'ask': {'o': '1.08199', 'h': '1.08201', 'l': '1.08178', 'c': '1.08194'}}]}"
      ]
     },
     "execution_count": 34,
     "metadata": {},
     "output_type": "execute_result"
    }
   ],
   "source": [
    "response.json()"
   ]
  },
  {
   "cell_type": "code",
   "execution_count": 35,
   "metadata": {},
   "outputs": [],
   "source": [
    "data = response.json()"
   ]
  },
  {
   "cell_type": "code",
   "execution_count": 36,
   "metadata": {},
   "outputs": [
    {
     "data": {
      "text/plain": [
       "dict_keys(['instrument', 'granularity', 'candles'])"
      ]
     },
     "execution_count": 36,
     "metadata": {},
     "output_type": "execute_result"
    }
   ],
   "source": [
    "data.keys()"
   ]
  },
  {
   "cell_type": "code",
   "execution_count": 37,
   "metadata": {},
   "outputs": [
    {
     "data": {
      "text/plain": [
       "10"
      ]
     },
     "execution_count": 37,
     "metadata": {},
     "output_type": "execute_result"
    }
   ],
   "source": [
    "len(data['candles'])"
   ]
  },
  {
   "cell_type": "code",
   "execution_count": 38,
   "metadata": {},
   "outputs": [
    {
     "name": "stdout",
     "output_type": "stream",
     "text": [
      "{'complete': True, 'volume': 4204, 'time': '2024-07-29T15:00:00.000000000Z', 'bid': {'o': '1.08148', 'h': '1.08232', 'l': '1.08147', 'c': '1.08181'}, 'mid': {'o': '1.08156', 'h': '1.08239', 'l': '1.08154', 'c': '1.08189'}, 'ask': {'o': '1.08163', 'h': '1.08246', 'l': '1.08162', 'c': '1.08197'}}\n",
      "{'complete': True, 'volume': 3435, 'time': '2024-07-29T16:00:00.000000000Z', 'bid': {'o': '1.08184', 'h': '1.08230', 'l': '1.08142', 'c': '1.08207'}, 'mid': {'o': '1.08192', 'h': '1.08238', 'l': '1.08150', 'c': '1.08215'}, 'ask': {'o': '1.08199', 'h': '1.08246', 'l': '1.08158', 'c': '1.08223'}}\n",
      "{'complete': True, 'volume': 3187, 'time': '2024-07-29T17:00:00.000000000Z', 'bid': {'o': '1.08209', 'h': '1.08253', 'l': '1.08188', 'c': '1.08242'}, 'mid': {'o': '1.08216', 'h': '1.08260', 'l': '1.08196', 'c': '1.08250'}, 'ask': {'o': '1.08224', 'h': '1.08268', 'l': '1.08203', 'c': '1.08258'}}\n",
      "{'complete': True, 'volume': 3019, 'time': '2024-07-29T18:00:00.000000000Z', 'bid': {'o': '1.08240', 'h': '1.08243', 'l': '1.08186', 'c': '1.08209'}, 'mid': {'o': '1.08248', 'h': '1.08250', 'l': '1.08194', 'c': '1.08216'}, 'ask': {'o': '1.08256', 'h': '1.08258', 'l': '1.08202', 'c': '1.08224'}}\n",
      "{'complete': True, 'volume': 3087, 'time': '2024-07-29T19:00:00.000000000Z', 'bid': {'o': '1.08210', 'h': '1.08249', 'l': '1.08210', 'c': '1.08229'}, 'mid': {'o': '1.08218', 'h': '1.08257', 'l': '1.08218', 'c': '1.08237'}, 'ask': {'o': '1.08226', 'h': '1.08265', 'l': '1.08225', 'c': '1.08245'}}\n",
      "{'complete': True, 'volume': 1738, 'time': '2024-07-29T20:00:00.000000000Z', 'bid': {'o': '1.08230', 'h': '1.08231', 'l': '1.08190', 'c': '1.08205'}, 'mid': {'o': '1.08237', 'h': '1.08238', 'l': '1.08198', 'c': '1.08212'}, 'ask': {'o': '1.08244', 'h': '1.08246', 'l': '1.08206', 'c': '1.08219'}}\n",
      "{'complete': True, 'volume': 346, 'time': '2024-07-29T21:00:00.000000000Z', 'bid': {'o': '1.08191', 'h': '1.08228', 'l': '1.08191', 'c': '1.08220'}, 'mid': {'o': '1.08227', 'h': '1.08242', 'l': '1.08220', 'c': '1.08230'}, 'ask': {'o': '1.08263', 'h': '1.08263', 'l': '1.08230', 'c': '1.08241'}}\n",
      "{'complete': True, 'volume': 664, 'time': '2024-07-29T22:00:00.000000000Z', 'bid': {'o': '1.08227', 'h': '1.08229', 'l': '1.08211', 'c': '1.08215'}, 'mid': {'o': '1.08238', 'h': '1.08238', 'l': '1.08220', 'c': '1.08223'}, 'ask': {'o': '1.08248', 'h': '1.08250', 'l': '1.08228', 'c': '1.08231'}}\n",
      "{'complete': True, 'volume': 1198, 'time': '2024-07-29T23:00:00.000000000Z', 'bid': {'o': '1.08214', 'h': '1.08216', 'l': '1.08175', 'c': '1.08184'}, 'mid': {'o': '1.08222', 'h': '1.08223', 'l': '1.08184', 'c': '1.08192'}, 'ask': {'o': '1.08229', 'h': '1.08230', 'l': '1.08191', 'c': '1.08199'}}\n",
      "{'complete': False, 'volume': 466, 'time': '2024-07-30T00:00:00.000000000Z', 'bid': {'o': '1.08185', 'h': '1.08185', 'l': '1.08163', 'c': '1.08178'}, 'mid': {'o': '1.08192', 'h': '1.08193', 'l': '1.08171', 'c': '1.08186'}, 'ask': {'o': '1.08199', 'h': '1.08201', 'l': '1.08178', 'c': '1.08194'}}\n"
     ]
    }
   ],
   "source": [
    "for candle in data ['candles']:\n",
    "    print(candle)"
   ]
  },
  {
   "cell_type": "code",
   "execution_count": 39,
   "metadata": {},
   "outputs": [],
   "source": [
    "prices = ['mid', 'bid', 'ask']\n",
    "ohlc = ['o', 'h', 'l', 'c']"
   ]
  },
  {
   "cell_type": "code",
   "execution_count": 40,
   "metadata": {},
   "outputs": [
    {
     "name": "stdout",
     "output_type": "stream",
     "text": [
      "mid_o\n",
      "mid_h\n",
      "mid_l\n",
      "mid_c\n",
      "bid_o\n",
      "bid_h\n",
      "bid_l\n",
      "bid_c\n",
      "ask_o\n",
      "ask_h\n",
      "ask_l\n",
      "ask_c\n"
     ]
    }
   ],
   "source": [
    "for price in prices:\n",
    "    for oh in ohlc:\n",
    "        print(f\"{price}_{oh}\")"
   ]
  },
  {
   "cell_type": "code",
   "execution_count": 41,
   "metadata": {},
   "outputs": [
    {
     "data": {
      "text/plain": [
       "'1.08148'"
      ]
     },
     "execution_count": 41,
     "metadata": {},
     "output_type": "execute_result"
    }
   ],
   "source": [
    "data['candles'][0]['bid']['o']"
   ]
  },
  {
   "cell_type": "code",
   "execution_count": 42,
   "metadata": {},
   "outputs": [
    {
     "name": "stdout",
     "output_type": "stream",
     "text": [
      "{'time': '2024-07-29T15:00:00.000000000Z', 'volume': 4204, 'mid_o': '1.08156', 'mid_h': '1.08239', 'mid_l': '1.08154', 'mid_c': '1.08189', 'bid_o': '1.08148', 'bid_h': '1.08232', 'bid_l': '1.08147', 'bid_c': '1.08181', 'ask_o': '1.08163', 'ask_h': '1.08246', 'ask_l': '1.08162', 'ask_c': '1.08197'}\n"
     ]
    }
   ],
   "source": [
    "our_data = []\n",
    "for candle in data['candles']:\n",
    "    if candle['complete'] == False:\n",
    "        continue\n",
    "\n",
    "    new_dict = {}\n",
    "    new_dict['time'] = candle['time']\n",
    "    new_dict['volume'] = candle['volume']\n",
    "    for price in prices:\n",
    "        for oh in ohlc:\n",
    "            new_dict[f\"{price}_{oh}\"] = candle[price][oh]\n",
    "    \n",
    "    our_data.append(new_dict)\n",
    "\n",
    "print(our_data[0])"
   ]
  },
  {
   "cell_type": "code",
   "execution_count": 43,
   "metadata": {},
   "outputs": [
    {
     "data": {
      "text/html": [
       "<div>\n",
       "<style scoped>\n",
       "    .dataframe tbody tr th:only-of-type {\n",
       "        vertical-align: middle;\n",
       "    }\n",
       "\n",
       "    .dataframe tbody tr th {\n",
       "        vertical-align: top;\n",
       "    }\n",
       "\n",
       "    .dataframe thead th {\n",
       "        text-align: right;\n",
       "    }\n",
       "</style>\n",
       "<table border=\"1\" class=\"dataframe\">\n",
       "  <thead>\n",
       "    <tr style=\"text-align: right;\">\n",
       "      <th></th>\n",
       "      <th>time</th>\n",
       "      <th>volume</th>\n",
       "      <th>mid_o</th>\n",
       "      <th>mid_h</th>\n",
       "      <th>mid_l</th>\n",
       "      <th>mid_c</th>\n",
       "      <th>bid_o</th>\n",
       "      <th>bid_h</th>\n",
       "      <th>bid_l</th>\n",
       "      <th>bid_c</th>\n",
       "      <th>ask_o</th>\n",
       "      <th>ask_h</th>\n",
       "      <th>ask_l</th>\n",
       "      <th>ask_c</th>\n",
       "    </tr>\n",
       "  </thead>\n",
       "  <tbody>\n",
       "    <tr>\n",
       "      <th>0</th>\n",
       "      <td>2024-07-29T15:00:00.000000000Z</td>\n",
       "      <td>4204</td>\n",
       "      <td>1.08156</td>\n",
       "      <td>1.08239</td>\n",
       "      <td>1.08154</td>\n",
       "      <td>1.08189</td>\n",
       "      <td>1.08148</td>\n",
       "      <td>1.08232</td>\n",
       "      <td>1.08147</td>\n",
       "      <td>1.08181</td>\n",
       "      <td>1.08163</td>\n",
       "      <td>1.08246</td>\n",
       "      <td>1.08162</td>\n",
       "      <td>1.08197</td>\n",
       "    </tr>\n",
       "    <tr>\n",
       "      <th>1</th>\n",
       "      <td>2024-07-29T16:00:00.000000000Z</td>\n",
       "      <td>3435</td>\n",
       "      <td>1.08192</td>\n",
       "      <td>1.08238</td>\n",
       "      <td>1.08150</td>\n",
       "      <td>1.08215</td>\n",
       "      <td>1.08184</td>\n",
       "      <td>1.08230</td>\n",
       "      <td>1.08142</td>\n",
       "      <td>1.08207</td>\n",
       "      <td>1.08199</td>\n",
       "      <td>1.08246</td>\n",
       "      <td>1.08158</td>\n",
       "      <td>1.08223</td>\n",
       "    </tr>\n",
       "    <tr>\n",
       "      <th>2</th>\n",
       "      <td>2024-07-29T17:00:00.000000000Z</td>\n",
       "      <td>3187</td>\n",
       "      <td>1.08216</td>\n",
       "      <td>1.08260</td>\n",
       "      <td>1.08196</td>\n",
       "      <td>1.08250</td>\n",
       "      <td>1.08209</td>\n",
       "      <td>1.08253</td>\n",
       "      <td>1.08188</td>\n",
       "      <td>1.08242</td>\n",
       "      <td>1.08224</td>\n",
       "      <td>1.08268</td>\n",
       "      <td>1.08203</td>\n",
       "      <td>1.08258</td>\n",
       "    </tr>\n",
       "    <tr>\n",
       "      <th>3</th>\n",
       "      <td>2024-07-29T18:00:00.000000000Z</td>\n",
       "      <td>3019</td>\n",
       "      <td>1.08248</td>\n",
       "      <td>1.08250</td>\n",
       "      <td>1.08194</td>\n",
       "      <td>1.08216</td>\n",
       "      <td>1.08240</td>\n",
       "      <td>1.08243</td>\n",
       "      <td>1.08186</td>\n",
       "      <td>1.08209</td>\n",
       "      <td>1.08256</td>\n",
       "      <td>1.08258</td>\n",
       "      <td>1.08202</td>\n",
       "      <td>1.08224</td>\n",
       "    </tr>\n",
       "    <tr>\n",
       "      <th>4</th>\n",
       "      <td>2024-07-29T19:00:00.000000000Z</td>\n",
       "      <td>3087</td>\n",
       "      <td>1.08218</td>\n",
       "      <td>1.08257</td>\n",
       "      <td>1.08218</td>\n",
       "      <td>1.08237</td>\n",
       "      <td>1.08210</td>\n",
       "      <td>1.08249</td>\n",
       "      <td>1.08210</td>\n",
       "      <td>1.08229</td>\n",
       "      <td>1.08226</td>\n",
       "      <td>1.08265</td>\n",
       "      <td>1.08225</td>\n",
       "      <td>1.08245</td>\n",
       "    </tr>\n",
       "    <tr>\n",
       "      <th>5</th>\n",
       "      <td>2024-07-29T20:00:00.000000000Z</td>\n",
       "      <td>1738</td>\n",
       "      <td>1.08237</td>\n",
       "      <td>1.08238</td>\n",
       "      <td>1.08198</td>\n",
       "      <td>1.08212</td>\n",
       "      <td>1.08230</td>\n",
       "      <td>1.08231</td>\n",
       "      <td>1.08190</td>\n",
       "      <td>1.08205</td>\n",
       "      <td>1.08244</td>\n",
       "      <td>1.08246</td>\n",
       "      <td>1.08206</td>\n",
       "      <td>1.08219</td>\n",
       "    </tr>\n",
       "    <tr>\n",
       "      <th>6</th>\n",
       "      <td>2024-07-29T21:00:00.000000000Z</td>\n",
       "      <td>346</td>\n",
       "      <td>1.08227</td>\n",
       "      <td>1.08242</td>\n",
       "      <td>1.08220</td>\n",
       "      <td>1.08230</td>\n",
       "      <td>1.08191</td>\n",
       "      <td>1.08228</td>\n",
       "      <td>1.08191</td>\n",
       "      <td>1.08220</td>\n",
       "      <td>1.08263</td>\n",
       "      <td>1.08263</td>\n",
       "      <td>1.08230</td>\n",
       "      <td>1.08241</td>\n",
       "    </tr>\n",
       "    <tr>\n",
       "      <th>7</th>\n",
       "      <td>2024-07-29T22:00:00.000000000Z</td>\n",
       "      <td>664</td>\n",
       "      <td>1.08238</td>\n",
       "      <td>1.08238</td>\n",
       "      <td>1.08220</td>\n",
       "      <td>1.08223</td>\n",
       "      <td>1.08227</td>\n",
       "      <td>1.08229</td>\n",
       "      <td>1.08211</td>\n",
       "      <td>1.08215</td>\n",
       "      <td>1.08248</td>\n",
       "      <td>1.08250</td>\n",
       "      <td>1.08228</td>\n",
       "      <td>1.08231</td>\n",
       "    </tr>\n",
       "    <tr>\n",
       "      <th>8</th>\n",
       "      <td>2024-07-29T23:00:00.000000000Z</td>\n",
       "      <td>1198</td>\n",
       "      <td>1.08222</td>\n",
       "      <td>1.08223</td>\n",
       "      <td>1.08184</td>\n",
       "      <td>1.08192</td>\n",
       "      <td>1.08214</td>\n",
       "      <td>1.08216</td>\n",
       "      <td>1.08175</td>\n",
       "      <td>1.08184</td>\n",
       "      <td>1.08229</td>\n",
       "      <td>1.08230</td>\n",
       "      <td>1.08191</td>\n",
       "      <td>1.08199</td>\n",
       "    </tr>\n",
       "  </tbody>\n",
       "</table>\n",
       "</div>"
      ],
      "text/plain": [
       "                             time  volume    mid_o    mid_h    mid_l    mid_c  \\\n",
       "0  2024-07-29T15:00:00.000000000Z    4204  1.08156  1.08239  1.08154  1.08189   \n",
       "1  2024-07-29T16:00:00.000000000Z    3435  1.08192  1.08238  1.08150  1.08215   \n",
       "2  2024-07-29T17:00:00.000000000Z    3187  1.08216  1.08260  1.08196  1.08250   \n",
       "3  2024-07-29T18:00:00.000000000Z    3019  1.08248  1.08250  1.08194  1.08216   \n",
       "4  2024-07-29T19:00:00.000000000Z    3087  1.08218  1.08257  1.08218  1.08237   \n",
       "5  2024-07-29T20:00:00.000000000Z    1738  1.08237  1.08238  1.08198  1.08212   \n",
       "6  2024-07-29T21:00:00.000000000Z     346  1.08227  1.08242  1.08220  1.08230   \n",
       "7  2024-07-29T22:00:00.000000000Z     664  1.08238  1.08238  1.08220  1.08223   \n",
       "8  2024-07-29T23:00:00.000000000Z    1198  1.08222  1.08223  1.08184  1.08192   \n",
       "\n",
       "     bid_o    bid_h    bid_l    bid_c    ask_o    ask_h    ask_l    ask_c  \n",
       "0  1.08148  1.08232  1.08147  1.08181  1.08163  1.08246  1.08162  1.08197  \n",
       "1  1.08184  1.08230  1.08142  1.08207  1.08199  1.08246  1.08158  1.08223  \n",
       "2  1.08209  1.08253  1.08188  1.08242  1.08224  1.08268  1.08203  1.08258  \n",
       "3  1.08240  1.08243  1.08186  1.08209  1.08256  1.08258  1.08202  1.08224  \n",
       "4  1.08210  1.08249  1.08210  1.08229  1.08226  1.08265  1.08225  1.08245  \n",
       "5  1.08230  1.08231  1.08190  1.08205  1.08244  1.08246  1.08206  1.08219  \n",
       "6  1.08191  1.08228  1.08191  1.08220  1.08263  1.08263  1.08230  1.08241  \n",
       "7  1.08227  1.08229  1.08211  1.08215  1.08248  1.08250  1.08228  1.08231  \n",
       "8  1.08214  1.08216  1.08175  1.08184  1.08229  1.08230  1.08191  1.08199  "
      ]
     },
     "execution_count": 43,
     "metadata": {},
     "output_type": "execute_result"
    }
   ],
   "source": [
    "candles_df = pd.DataFrame.from_dict(our_data)\n",
    "candles_df"
   ]
  },
  {
   "cell_type": "code",
   "execution_count": 44,
   "metadata": {},
   "outputs": [],
   "source": [
    "candles_df.to_pickle(\"EUR_USD_H1.pkl\")"
   ]
  },
  {
   "cell_type": "code",
   "execution_count": 45,
   "metadata": {},
   "outputs": [],
   "source": [
    "test_df = pd.read_pickle(\"EUR_USD_H1.pkl\")"
   ]
  },
  {
   "cell_type": "code",
   "execution_count": 46,
   "metadata": {},
   "outputs": [
    {
     "data": {
      "text/html": [
       "<div>\n",
       "<style scoped>\n",
       "    .dataframe tbody tr th:only-of-type {\n",
       "        vertical-align: middle;\n",
       "    }\n",
       "\n",
       "    .dataframe tbody tr th {\n",
       "        vertical-align: top;\n",
       "    }\n",
       "\n",
       "    .dataframe thead th {\n",
       "        text-align: right;\n",
       "    }\n",
       "</style>\n",
       "<table border=\"1\" class=\"dataframe\">\n",
       "  <thead>\n",
       "    <tr style=\"text-align: right;\">\n",
       "      <th></th>\n",
       "      <th>time</th>\n",
       "      <th>volume</th>\n",
       "      <th>mid_o</th>\n",
       "      <th>mid_h</th>\n",
       "      <th>mid_l</th>\n",
       "      <th>mid_c</th>\n",
       "      <th>bid_o</th>\n",
       "      <th>bid_h</th>\n",
       "      <th>bid_l</th>\n",
       "      <th>bid_c</th>\n",
       "      <th>ask_o</th>\n",
       "      <th>ask_h</th>\n",
       "      <th>ask_l</th>\n",
       "      <th>ask_c</th>\n",
       "    </tr>\n",
       "  </thead>\n",
       "  <tbody>\n",
       "    <tr>\n",
       "      <th>0</th>\n",
       "      <td>2024-07-29T15:00:00.000000000Z</td>\n",
       "      <td>4204</td>\n",
       "      <td>1.08156</td>\n",
       "      <td>1.08239</td>\n",
       "      <td>1.08154</td>\n",
       "      <td>1.08189</td>\n",
       "      <td>1.08148</td>\n",
       "      <td>1.08232</td>\n",
       "      <td>1.08147</td>\n",
       "      <td>1.08181</td>\n",
       "      <td>1.08163</td>\n",
       "      <td>1.08246</td>\n",
       "      <td>1.08162</td>\n",
       "      <td>1.08197</td>\n",
       "    </tr>\n",
       "    <tr>\n",
       "      <th>1</th>\n",
       "      <td>2024-07-29T16:00:00.000000000Z</td>\n",
       "      <td>3435</td>\n",
       "      <td>1.08192</td>\n",
       "      <td>1.08238</td>\n",
       "      <td>1.08150</td>\n",
       "      <td>1.08215</td>\n",
       "      <td>1.08184</td>\n",
       "      <td>1.08230</td>\n",
       "      <td>1.08142</td>\n",
       "      <td>1.08207</td>\n",
       "      <td>1.08199</td>\n",
       "      <td>1.08246</td>\n",
       "      <td>1.08158</td>\n",
       "      <td>1.08223</td>\n",
       "    </tr>\n",
       "    <tr>\n",
       "      <th>2</th>\n",
       "      <td>2024-07-29T17:00:00.000000000Z</td>\n",
       "      <td>3187</td>\n",
       "      <td>1.08216</td>\n",
       "      <td>1.08260</td>\n",
       "      <td>1.08196</td>\n",
       "      <td>1.08250</td>\n",
       "      <td>1.08209</td>\n",
       "      <td>1.08253</td>\n",
       "      <td>1.08188</td>\n",
       "      <td>1.08242</td>\n",
       "      <td>1.08224</td>\n",
       "      <td>1.08268</td>\n",
       "      <td>1.08203</td>\n",
       "      <td>1.08258</td>\n",
       "    </tr>\n",
       "    <tr>\n",
       "      <th>3</th>\n",
       "      <td>2024-07-29T18:00:00.000000000Z</td>\n",
       "      <td>3019</td>\n",
       "      <td>1.08248</td>\n",
       "      <td>1.08250</td>\n",
       "      <td>1.08194</td>\n",
       "      <td>1.08216</td>\n",
       "      <td>1.08240</td>\n",
       "      <td>1.08243</td>\n",
       "      <td>1.08186</td>\n",
       "      <td>1.08209</td>\n",
       "      <td>1.08256</td>\n",
       "      <td>1.08258</td>\n",
       "      <td>1.08202</td>\n",
       "      <td>1.08224</td>\n",
       "    </tr>\n",
       "    <tr>\n",
       "      <th>4</th>\n",
       "      <td>2024-07-29T19:00:00.000000000Z</td>\n",
       "      <td>3087</td>\n",
       "      <td>1.08218</td>\n",
       "      <td>1.08257</td>\n",
       "      <td>1.08218</td>\n",
       "      <td>1.08237</td>\n",
       "      <td>1.08210</td>\n",
       "      <td>1.08249</td>\n",
       "      <td>1.08210</td>\n",
       "      <td>1.08229</td>\n",
       "      <td>1.08226</td>\n",
       "      <td>1.08265</td>\n",
       "      <td>1.08225</td>\n",
       "      <td>1.08245</td>\n",
       "    </tr>\n",
       "    <tr>\n",
       "      <th>5</th>\n",
       "      <td>2024-07-29T20:00:00.000000000Z</td>\n",
       "      <td>1738</td>\n",
       "      <td>1.08237</td>\n",
       "      <td>1.08238</td>\n",
       "      <td>1.08198</td>\n",
       "      <td>1.08212</td>\n",
       "      <td>1.08230</td>\n",
       "      <td>1.08231</td>\n",
       "      <td>1.08190</td>\n",
       "      <td>1.08205</td>\n",
       "      <td>1.08244</td>\n",
       "      <td>1.08246</td>\n",
       "      <td>1.08206</td>\n",
       "      <td>1.08219</td>\n",
       "    </tr>\n",
       "    <tr>\n",
       "      <th>6</th>\n",
       "      <td>2024-07-29T21:00:00.000000000Z</td>\n",
       "      <td>346</td>\n",
       "      <td>1.08227</td>\n",
       "      <td>1.08242</td>\n",
       "      <td>1.08220</td>\n",
       "      <td>1.08230</td>\n",
       "      <td>1.08191</td>\n",
       "      <td>1.08228</td>\n",
       "      <td>1.08191</td>\n",
       "      <td>1.08220</td>\n",
       "      <td>1.08263</td>\n",
       "      <td>1.08263</td>\n",
       "      <td>1.08230</td>\n",
       "      <td>1.08241</td>\n",
       "    </tr>\n",
       "    <tr>\n",
       "      <th>7</th>\n",
       "      <td>2024-07-29T22:00:00.000000000Z</td>\n",
       "      <td>664</td>\n",
       "      <td>1.08238</td>\n",
       "      <td>1.08238</td>\n",
       "      <td>1.08220</td>\n",
       "      <td>1.08223</td>\n",
       "      <td>1.08227</td>\n",
       "      <td>1.08229</td>\n",
       "      <td>1.08211</td>\n",
       "      <td>1.08215</td>\n",
       "      <td>1.08248</td>\n",
       "      <td>1.08250</td>\n",
       "      <td>1.08228</td>\n",
       "      <td>1.08231</td>\n",
       "    </tr>\n",
       "    <tr>\n",
       "      <th>8</th>\n",
       "      <td>2024-07-29T23:00:00.000000000Z</td>\n",
       "      <td>1198</td>\n",
       "      <td>1.08222</td>\n",
       "      <td>1.08223</td>\n",
       "      <td>1.08184</td>\n",
       "      <td>1.08192</td>\n",
       "      <td>1.08214</td>\n",
       "      <td>1.08216</td>\n",
       "      <td>1.08175</td>\n",
       "      <td>1.08184</td>\n",
       "      <td>1.08229</td>\n",
       "      <td>1.08230</td>\n",
       "      <td>1.08191</td>\n",
       "      <td>1.08199</td>\n",
       "    </tr>\n",
       "  </tbody>\n",
       "</table>\n",
       "</div>"
      ],
      "text/plain": [
       "                             time  volume    mid_o    mid_h    mid_l    mid_c  \\\n",
       "0  2024-07-29T15:00:00.000000000Z    4204  1.08156  1.08239  1.08154  1.08189   \n",
       "1  2024-07-29T16:00:00.000000000Z    3435  1.08192  1.08238  1.08150  1.08215   \n",
       "2  2024-07-29T17:00:00.000000000Z    3187  1.08216  1.08260  1.08196  1.08250   \n",
       "3  2024-07-29T18:00:00.000000000Z    3019  1.08248  1.08250  1.08194  1.08216   \n",
       "4  2024-07-29T19:00:00.000000000Z    3087  1.08218  1.08257  1.08218  1.08237   \n",
       "5  2024-07-29T20:00:00.000000000Z    1738  1.08237  1.08238  1.08198  1.08212   \n",
       "6  2024-07-29T21:00:00.000000000Z     346  1.08227  1.08242  1.08220  1.08230   \n",
       "7  2024-07-29T22:00:00.000000000Z     664  1.08238  1.08238  1.08220  1.08223   \n",
       "8  2024-07-29T23:00:00.000000000Z    1198  1.08222  1.08223  1.08184  1.08192   \n",
       "\n",
       "     bid_o    bid_h    bid_l    bid_c    ask_o    ask_h    ask_l    ask_c  \n",
       "0  1.08148  1.08232  1.08147  1.08181  1.08163  1.08246  1.08162  1.08197  \n",
       "1  1.08184  1.08230  1.08142  1.08207  1.08199  1.08246  1.08158  1.08223  \n",
       "2  1.08209  1.08253  1.08188  1.08242  1.08224  1.08268  1.08203  1.08258  \n",
       "3  1.08240  1.08243  1.08186  1.08209  1.08256  1.08258  1.08202  1.08224  \n",
       "4  1.08210  1.08249  1.08210  1.08229  1.08226  1.08265  1.08225  1.08245  \n",
       "5  1.08230  1.08231  1.08190  1.08205  1.08244  1.08246  1.08206  1.08219  \n",
       "6  1.08191  1.08228  1.08191  1.08220  1.08263  1.08263  1.08230  1.08241  \n",
       "7  1.08227  1.08229  1.08211  1.08215  1.08248  1.08250  1.08228  1.08231  \n",
       "8  1.08214  1.08216  1.08175  1.08184  1.08229  1.08230  1.08191  1.08199  "
      ]
     },
     "execution_count": 46,
     "metadata": {},
     "output_type": "execute_result"
    }
   ],
   "source": [
    "test_df"
   ]
  }
 ],
 "metadata": {
  "kernelspec": {
   "display_name": "venv",
   "language": "python",
   "name": "python3"
  },
  "language_info": {
   "codemirror_mode": {
    "name": "ipython",
    "version": 3
   },
   "file_extension": ".py",
   "mimetype": "text/x-python",
   "name": "python",
   "nbconvert_exporter": "python",
   "pygments_lexer": "ipython3",
   "version": "3.11.7"
  }
 },
 "nbformat": 4,
 "nbformat_minor": 2
}
